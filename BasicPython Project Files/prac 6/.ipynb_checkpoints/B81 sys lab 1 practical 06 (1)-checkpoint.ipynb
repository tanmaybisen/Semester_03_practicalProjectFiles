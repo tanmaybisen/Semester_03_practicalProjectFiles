{
 "cells": [
  {
   "cell_type": "code",
   "execution_count": 11,
   "metadata": {},
   "outputs": [
    {
     "name": "stdout",
     "output_type": "stream",
     "text": [
      "sum is : \n",
      "[[ 4 26 10  9]\n",
      " [ 8 13 11  9]\n",
      " [ 7  8  8 14]\n",
      " [11 12  4  5]]\n",
      "\n",
      "\n",
      "difference is : \n",
      "[[ -2 -22  -4  -1]\n",
      " [  2  -1   3   7]\n",
      " [ -1  -4  -6  -4]\n",
      " [ -7  -6   2   3]]\n",
      "\n",
      "\n",
      "product is : \n",
      "[[ 57  92  40  38]\n",
      " [133 276 116 102]\n",
      " [ 64 137  41  31]\n",
      " [ 63 123  51  44]]\n"
     ]
    }
   ],
   "source": [
    "# Write a python code for addition, subtraction and multiplication of two 4x4 matrices.\n",
    "import numpy as np\n",
    "A=np.array([[1,2,3,4],[5,6,7,8],[3,2,1,5],[2,3,3,4]])\n",
    "B=np.array([[3,24,7,5],[3,7,4,1],[4,6,7,9],[9,9,1,1]])\n",
    "print(\"sum is : \")\n",
    "print(A+B)\n",
    "print(\"\\n\")\n",
    "print(\"difference is : \")\n",
    "print(A-B)\n",
    "print(\"\\n\")\n",
    "print(\"product is : \")\n",
    "print(A.dot(B))"
   ]
  },
  {
   "cell_type": "code",
   "execution_count": 4,
   "metadata": {},
   "outputs": [
    {
     "name": "stdout",
     "output_type": "stream",
     "text": [
      "[[100 110]\n",
      " [120 130]\n",
      " [140 150]\n",
      " [160 170]\n",
      " [180 190]]\n"
     ]
    }
   ],
   "source": [
    "# Create a 5 by 2 integer array from a range between 100 to\n",
    "# 200 such that the difference between each element is 10.\n",
    "# Print the same.\n",
    "import numpy as np\n",
    "arr=np.arange(100,200,10).reshape(5,2)\n",
    "print(arr)"
   ]
  },
  {
   "cell_type": "code",
   "execution_count": 22,
   "metadata": {},
   "outputs": [
    {
     "name": "stdout",
     "output_type": "stream",
     "text": [
      "Dot product is : \n",
      "[[34 53 54]\n",
      " [36 57 58]\n",
      " [49 72 78]]\n",
      "\n",
      "\n",
      "Inner product is : \n",
      "[[ 22  41  69]\n",
      " [ 30  51  91]\n",
      " [ 40  63 117]]\n",
      "\n",
      "\n",
      "Cross product is : \n",
      "[[-10   0   5]\n",
      " [ 24 -28  -2]\n",
      " [ 29 -33  19]]\n",
      "\n",
      "\n",
      "Outer product is : \n",
      "[[ 2  8  4  8  6 12 10 18 16]\n",
      " [ 3 12  6 12  9 18 15 27 24]\n",
      " [ 4 16  8 16 12 24 20 36 32]\n",
      " [ 6 24 12 24 18 36 30 54 48]\n",
      " [ 5 20 10 20 15 30 25 45 40]\n",
      " [ 2  8  4  8  6 12 10 18 16]\n",
      " [ 6 24 12 24 18 36 30 54 48]\n",
      " [ 7 28 14 28 21 42 35 63 56]\n",
      " [ 3 12  6 12  9 18 15 27 24]]\n"
     ]
    }
   ],
   "source": [
    "# Consider two matrices\n",
    "# M1=([[2,3,4], [6,5,2], [6,7,3]])\n",
    "# M2=([[1,4,2], [4,3,6],[5,9,8]])\n",
    "# Calculate manually as well as develop the python program\n",
    "# for the following:\n",
    "# (1) matrix multiplication (dot product) \n",
    "# (2) inner product\n",
    "# (3) cross product\n",
    "# (4) outer product\n",
    "\n",
    "M1=np.array([[2,3,4], [6,5,2], [6,7,3]])\n",
    "M2=np.array([[1,4,2], [4,3,6], [5,9,8]])\n",
    "\n",
    "print(\"Dot product is : \")\n",
    "print(M1.dot(M2))\n",
    "print(\"\\n\")\n",
    "\n",
    "print(\"Inner product is : \")\n",
    "print(np.inner(M1,M2))\n",
    "print(\"\\n\")\n",
    "\n",
    "print(\"Cross product is : \")\n",
    "print(np.cross(M1,M2))\n",
    "print(\"\\n\")\n",
    "\n",
    "print(\"Outer product is : \")\n",
    "print(np.outer(M1,M2))\n"
   ]
  },
  {
   "cell_type": "code",
   "execution_count": 30,
   "metadata": {},
   "outputs": [
    {
     "name": "stdout",
     "output_type": "stream",
     "text": [
      "Array generated is : \n",
      "[55 92 84 70 56 51 43 65 44 47 50 86 54 67 84 51 72 48 70 48 94 87 53 62\n",
      " 78 94 72 45 91 48 91 74 50 55 54 81 46 85 61 71 70 91 48 59 64 52 53 93\n",
      " 80 82 40 61 53 43 78 58 68 71 94 80 57 93 61 90 44 69 46 50 77 70 55 92\n",
      " 50 49 57 41 78 64 94 81]\n",
      "\n",
      "\n",
      "70 percentile for given array 78.0.\n"
     ]
    }
   ],
   "source": [
    "# Randomly generate the marks of the 80 students in the range of 40 to 95.\n",
    "# Write a NumPy program to compute the 70 percentile for all elements in a given array.\n",
    "# (Hint: use np.random.randint(start,stop,no_of_items) for list generation)\n",
    "# (Hint: Use np.percentile)\n",
    "\n",
    "k=np.random.randint(40,95,80)\n",
    "print(\"Array generated is : \")\n",
    "print(k)\n",
    "print(\"\\n\")\n",
    "percentile_calculated=np.percentile(k,70)\n",
    "print(\"70 percentile for given array {}.\".format(percentile_calculated))"
   ]
  },
  {
   "cell_type": "code",
   "execution_count": 38,
   "metadata": {},
   "outputs": [
    {
     "name": "stdout",
     "output_type": "stream",
     "text": [
      "[[1 0 1 0 1 0 1 0]\n",
      " [0 1 0 1 0 1 0 1]\n",
      " [1 0 1 0 1 0 1 0]\n",
      " [0 1 0 1 0 1 0 1]\n",
      " [1 0 1 0 1 0 1 0]\n",
      " [0 1 0 1 0 1 0 1]\n",
      " [1 0 1 0 1 0 1 0]\n",
      " [0 1 0 1 0 1 0 1]]\n"
     ]
    }
   ],
   "source": [
    "# Create the chessboard like structure black-0, white-1 in minimum(2) no. of lines of code. Use indexing of array.\n",
    "\n",
    "chess=np.arange(1,65,1)\n",
    "chess=chess.reshape(8,8)\n",
    "for j in range (0,8):\n",
    "    if(j%2==0):\n",
    "        for i in range (0,8):\n",
    "            if(chess[j][i]%2!=0):\n",
    "                chess[j][i]=1\n",
    "            else:\n",
    "                chess[j][i]=0    \n",
    "    else:\n",
    "        for i in range (0,8):\n",
    "            if(chess[j][i]%2!=0):\n",
    "                chess[j][i]=0\n",
    "            else:\n",
    "                chess[j][i]=1\n",
    "print(chess)   \n"
   ]
  },
  {
   "cell_type": "code",
   "execution_count": 46,
   "metadata": {},
   "outputs": [
    {
     "name": "stdout",
     "output_type": "stream",
     "text": [
      "Output of np.linalg.eig() function is : \n",
      "(array([18.61713304, -4.50451282,  3.88737977]), array([[-0.44798294, -0.82768979,  0.36471887],\n",
      "       [-0.52339057,  0.43844259, -0.77347804],\n",
      "       [-0.7248266 ,  0.35028233,  0.51837426]]))\n",
      "\n",
      "\n",
      "Eigen values are : \n",
      "[18.61713304 -4.50451282  3.88737977]\n",
      "\n",
      "\n",
      "Right eigen vectors are : \n",
      "[[-0.44798294 -0.82768979  0.36471887]\n",
      " [-0.52339057  0.43844259 -0.77347804]\n",
      " [-0.7248266   0.35028233  0.51837426]]\n"
     ]
    }
   ],
   "source": [
    "# For the question 6 given below use linear algebra package under numpy.\n",
    "# Add these statements i.e. for eigenvalues,import numpy as np,from numpy import linalg\n",
    "# np.linalg.eig(a)\n",
    "# Write a NumPy program to compute the eigenvalues and\n",
    "# right eigenvectors of a given square array.\n",
    "# Arr =( [[1,4,8], [8,9,2],[9,7,8]])\n",
    "\n",
    "import numpy as np\n",
    "from numpy import linalg\n",
    "output=()\n",
    "Arr =( [[1,4,8], [8,9,2],[9,7,8]])\n",
    "print(\"Output of np.linalg.eig() function is : \")\n",
    "output=np.linalg.eig(Arr)\n",
    "print(output)\n",
    "print(\"\\n\")\n",
    "print(\"Eigen values are : \")\n",
    "print(output[0])                      #first list is set of eign values second is right eigen vectors\n",
    "print(\"\\n\")\n",
    "print(\"Right eigen vectors are : \")\n",
    "print(output[1])\n"
   ]
  }
 ],
 "metadata": {
  "kernelspec": {
   "display_name": "Python 3",
   "language": "python",
   "name": "python3"
  },
  "language_info": {
   "codemirror_mode": {
    "name": "ipython",
    "version": 3
   },
   "file_extension": ".py",
   "mimetype": "text/x-python",
   "name": "python",
   "nbconvert_exporter": "python",
   "pygments_lexer": "ipython3",
   "version": "3.7.6"
  }
 },
 "nbformat": 4,
 "nbformat_minor": 4
}
