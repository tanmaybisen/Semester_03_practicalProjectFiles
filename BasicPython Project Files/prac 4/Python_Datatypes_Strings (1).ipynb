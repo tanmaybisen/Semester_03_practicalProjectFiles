{
 "cells": [
  {
   "cell_type": "markdown",
   "metadata": {},
   "source": [
    "String in Python\n",
    "A string is a sequence of characters. A character is simply a symbol. \n",
    "\n",
    "String is a collection of alphabets, words or other characters. It is one of the primitive data structures and are the building blocks for data manipulation. Python has a built-in string class named str. \n",
    "\n",
    "Python strings are \"immutable\" which means they cannot be changed after they are created. For string manipulation, we create new strings as we go to represent computed values because of their immutable property."
   ]
  },
  {
   "cell_type": "code",
   "execution_count": 10,
   "metadata": {},
   "outputs": [
    {
     "name": "stdout",
     "output_type": "stream",
     "text": [
      "aa\n",
      "aa\n"
     ]
    }
   ],
   "source": [
    "# defining strings in Python\n",
    "# all of the following are equivalent\n",
    "my_string = 'Hello World'\n",
    "str1=input()\n",
    "print(str1)"
   ]
  },
  {
   "cell_type": "code",
   "execution_count": 11,
   "metadata": {},
   "outputs": [
    {
     "name": "stdout",
     "output_type": "stream",
     "text": [
      "Hello Students\n"
     ]
    }
   ],
   "source": [
    "\n",
    "my_string = \"Hello Students\"\n",
    "print(my_string)"
   ]
  },
  {
   "cell_type": "code",
   "execution_count": 12,
   "metadata": {},
   "outputs": [
    {
     "name": "stdout",
     "output_type": "stream",
     "text": [
      "Python strings are \"immutable\" which means they cannot be \n",
      "changed after they are created. For string manipulation, we create new strings as \n",
      "we go to represent computed values because of their immutable property.\n"
     ]
    }
   ],
   "source": [
    "my_string = '''Python strings are \"immutable\" which means they cannot be \n",
    "changed after they are created. For string manipulation, we create new strings as \n",
    "we go to represent computed values because of their immutable property.'''\n",
    "print(my_string)"
   ]
  },
  {
   "cell_type": "code",
   "execution_count": 13,
   "metadata": {},
   "outputs": [
    {
     "name": "stdout",
     "output_type": "stream",
     "text": [
      "Python strings are \"immutable\" which means they cannot be \n",
      "changed after they are created. For string manipulation, we create new strings as \n",
      "we go to represent computed values because of their immutable property.\n"
     ]
    }
   ],
   "source": [
    "my_string = \"\"\"Python strings are \"immutable\" which means they cannot be \n",
    "changed after they are created. For string manipulation, we create new strings as \n",
    "we go to represent computed values because of their immutable property.\"\"\"\n",
    "print(my_string)\n"
   ]
  },
  {
   "cell_type": "code",
   "execution_count": 14,
   "metadata": {},
   "outputs": [
    {
     "name": "stdout",
     "output_type": "stream",
     "text": [
      "Hello, welcome to\n",
      "the world of Python\n"
     ]
    }
   ],
   "source": [
    "# triple quotes string can extend multiple lines\n",
    "my_string = \"\"\"Hello, welcome to\n",
    "the world of Python\"\"\"\n",
    "print(my_string)"
   ]
  },
  {
   "cell_type": "code",
   "execution_count": 15,
   "metadata": {},
   "outputs": [
    {
     "name": "stdout",
     "output_type": "stream",
     "text": [
      "str =  Ramdeobaba\n",
      "str[0] =  R\n",
      "str[-1] =  a\n",
      "str[1:5] =  amde\n",
      "str[5:-2] =  oba\n"
     ]
    }
   ],
   "source": [
    "#Accessing string characters in Python\n",
    "str = 'Ramdeobaba'\n",
    "print('str = ', str)\n",
    "\n",
    "#first character\n",
    "print('str[0] = ', str[0])\n",
    "\n",
    "#last character\n",
    "print('str[-1] = ', str[-1])\n",
    "\n",
    "#slicing 2nd to 5th character\n",
    "print('str[1:5] = ', str[1:5])   # [start:end(but not includuing):stepcount]\n",
    "\n",
    "#slicing 6th to 2nd last character\n",
    "print('str[5:-2] = ', str[5:-2])"
   ]
  },
  {
   "cell_type": "code",
   "execution_count": 16,
   "metadata": {},
   "outputs": [
    {
     "name": "stdout",
     "output_type": "stream",
     "text": [
      "t\n"
     ]
    },
    {
     "ename": "TypeError",
     "evalue": "string indices must be integers",
     "output_type": "error",
     "traceback": [
      "\u001b[1;31m---------------------------------------------------------------------------\u001b[0m",
      "\u001b[1;31mTypeError\u001b[0m                                 Traceback (most recent call last)",
      "\u001b[1;32m<ipython-input-16-8413e38cec63>\u001b[0m in \u001b[0;36m<module>\u001b[1;34m\u001b[0m\n\u001b[0;32m      3\u001b[0m \u001b[1;33m\u001b[0m\u001b[0m\n\u001b[0;32m      4\u001b[0m \u001b[1;31m# index must be an integer\u001b[0m\u001b[1;33m\u001b[0m\u001b[1;33m\u001b[0m\u001b[1;33m\u001b[0m\u001b[0m\n\u001b[1;32m----> 5\u001b[1;33m \u001b[0mprint\u001b[0m\u001b[1;33m(\u001b[0m\u001b[0mmy_string\u001b[0m\u001b[1;33m[\u001b[0m\u001b[1;36m1.5\u001b[0m\u001b[1;33m]\u001b[0m\u001b[1;33m)\u001b[0m        \u001b[1;31m# TypeError: string indices must be integers\u001b[0m\u001b[1;33m\u001b[0m\u001b[1;33m\u001b[0m\u001b[0m\n\u001b[0m",
      "\u001b[1;31mTypeError\u001b[0m: string indices must be integers"
     ]
    }
   ],
   "source": [
    "# index must be in range\n",
    "print(my_string[15])        # IndexError: string index out of range\n",
    "\n",
    "# index must be an integer\n",
    "print(my_string[1.5])        # TypeError: string indices must be integers"
   ]
  },
  {
   "cell_type": "markdown",
   "metadata": {},
   "source": [
    "Concatenation of Two or More Strings\n",
    "Joining of two or more strings into a single one is called concatenation.\n",
    "\n",
    "The + operator does this in Python. Simply writing two string literals together also concatenates them.\n",
    "\n",
    "The * operator can be used to repeat the string for a given number of times."
   ]
  },
  {
   "cell_type": "code",
   "execution_count": 18,
   "metadata": {},
   "outputs": [
    {
     "data": {
      "text/plain": [
       "'abcd'"
      ]
     },
     "execution_count": 18,
     "metadata": {},
     "output_type": "execute_result"
    }
   ],
   "source": [
    "'ab'+'cd'    # opeartor overloading imp feature of OOP\n"
   ]
  },
  {
   "cell_type": "code",
   "execution_count": 7,
   "metadata": {},
   "outputs": [
    {
     "name": "stdout",
     "output_type": "stream",
     "text": [
      "str1 + str2 =  Hello World!\n",
      "str1 * 3 = Hello Hello Hello \n"
     ]
    }
   ],
   "source": [
    "# Python String Operations\n",
    "str1 = 'Hello '\n",
    "str2 ='World!'\n",
    "\n",
    "# using +\n",
    "print('str1 + str2 = ', str1 + str2)\n",
    "\n",
    "# using *\n",
    "print('str1 * 3 =', str1 * 3)"
   ]
  },
  {
   "cell_type": "code",
   "execution_count": 1,
   "metadata": {},
   "outputs": [
    {
     "name": "stdout",
     "output_type": "stream",
     "text": [
      "H\n",
      "e\n",
      "l\n",
      "l\n",
      "o\n",
      " \n",
      "W\n",
      "o\n",
      "r\n",
      "l\n",
      "d\n",
      "3 letters found\n"
     ]
    }
   ],
   "source": [
    "# Iterating through a string\n",
    "count = 0\n",
    "for letter in 'Hello World':\n",
    "    print(letter)\n",
    "    \n",
    "    if(letter == 'l'):\n",
    "        count += 1\n",
    "    \n",
    "print(count,'letters found')"
   ]
  },
  {
   "cell_type": "code",
   "execution_count": 8,
   "metadata": {},
   "outputs": [
    {
     "name": "stdout",
     "output_type": "stream",
     "text": [
      "True\n",
      "False\n"
     ]
    }
   ],
   "source": [
    "# String Membership Test\n",
    "print('a' in 'program')\n",
    "\n",
    "print('at' not in 'battle')\n"
   ]
  },
  {
   "cell_type": "markdown",
   "metadata": {},
   "source": [
    "Built-in functions to Work with Python\n",
    "Various built-in functions that work with sequence work with strings as well.\n",
    "\n",
    "Some of the commonly used ones are enumerate() and len(). \n",
    "The enumerate() function returns an enumerate object. It contains the index and value of all the items in the string as pairs. This can be useful for iteration.\n",
    "\n",
    "Similarly, len() returns the length (number of characters) of the string."
   ]
  },
  {
   "cell_type": "code",
   "execution_count": 6,
   "metadata": {},
   "outputs": [
    {
     "name": "stdout",
     "output_type": "stream",
     "text": [
      "list(enumerate(str) =  [(0, 'A'), (1, 'V'), (2, 'N'), (3, 'I')]\n",
      "len(str) =  4\n"
     ]
    }
   ],
   "source": [
    "str = 'AVNI'\n",
    "\n",
    "# enumerate()\n",
    "list_enumerate = list(enumerate(str))\n",
    "print('list(enumerate(str) = ', list_enumerate)\n",
    "\n",
    "#character count\n",
    "print('len(str) = ', len(str))"
   ]
  },
  {
   "cell_type": "code",
   "execution_count": null,
   "metadata": {},
   "outputs": [],
   "source": [
    "\n",
    "Method\t                  Description\n",
    "capitalize()\t          Converts the first character to upper case\n",
    "casefold()\t              Converts string into lower case\n",
    "center()\t              Returns a centered string\n",
    "count()\t                  Returns the number of times a specified value occurs in a string\n",
    "encode()\t              Returns an encoded version of the string\n",
    "endswith()\t              Returns true if the string ends with the specified value\n",
    "expandtabs()\t          Sets the tab size of the string\n",
    "find()\t                  Searches the string for a specified value and returns the \n",
    "                           position of where it was found\n",
    "format()\t              Formats specified values in a string\n",
    "format_map()\t          Formats specified values in a string\n",
    "index()\t                  Searches the string for a specified value and returns \n",
    "                          the position of where it was found\n",
    "isalnum()\t              Returns True if all characters in the string are alphanumeric\n",
    "isalpha()\t              Returns True if all characters in the string are in the alphabet\n",
    "isdecimal()\t              Returns True if all characters in the string are decimals\n",
    "isdigit()\t              Returns True if all characters in the string are digits\n",
    "isidentifier()\t          Returns True if the string is an identifier\n",
    "islower()\t              Returns True if all characters in the string are lower case\n",
    "isnumeric()\t              Returns True if all characters in the string are numeric\n",
    "isprintable()\t          Returns True if all characters in the string are printable\n",
    "isspace()\t              Returns True if all characters in the string are whitespaces\n",
    "istitle()\t              Returns True if the string follows the rules of a title\n",
    "isupper()\t              Returns True if all characters in the string are upper case\n",
    "join()\t                  Joins the elements of an iterable to the end of the string\n",
    "ljust()\t                  Returns a left justified version of the string\n",
    "lower()\t                  Converts a string into lower case\n",
    "lstrip()\t              Returns a left trim version of the string\n",
    "maketrans()\t              Returns a translation table to be used in translations\n",
    "partition()\t              Returns a tuple where the string is parted into three parts\n",
    "replace()\t              Returns a string where a specified value is replaced with a specified value\n",
    "rfind()\t                  Searches the string for a specified value and returns the \n",
    "                          last position of where it was found\n",
    "rindex()\t              Searches the string for a specified value and returns the \n",
    "                          last position of where it was found\n",
    "rjust()\t                  Returns a right justified version of the string\n",
    "rpartition()\t          Returns a tuple where the string is parted into three parts\n",
    "rsplit()\t              Splits the string at the specified separator, and returns a list\n",
    "rstrip()\t              Returns a right trim version of the string\n",
    "split()\t                  Splits the string at the specified separator, and returns a list\n",
    "splitlines()\t          Splits the string at line breaks and returns a list\n",
    "startswith()\t          Returns true if the string starts with the specified value\n",
    "strip()\t                  Returns a trimmed version of the string\n",
    "swapcase()\t              Swaps cases, lower case becomes upper case and vice versa\n",
    "title()\t                  Converts the first character of each word to upper case\n",
    "translate()\t              Returns a translated string\n",
    "upper()\t                  Converts a string into upper case\n",
    "zfill()\t                  Fills the string with a specified number of 0 values at the beginning\n"
   ]
  },
  {
   "cell_type": "code",
   "execution_count": 51,
   "metadata": {},
   "outputs": [
    {
     "name": "stdout",
     "output_type": "stream",
     "text": [
      "\n",
      "--- Default Order ---\n",
      "Ram, Lakshman and Bharat\n",
      "\n",
      "--- Positional Order ---\n",
      "Lakshman, Ram and Bharat\n",
      "\n",
      "--- Keyword Order ---\n",
      "Ram, Lakshman and Bharat\n"
     ]
    }
   ],
   "source": [
    "# The format() Method for Formatting Strings\n",
    "\n",
    "# Python string format() method\n",
    "\n",
    "# default(implicit) order  printf(\"rno=%d\",rno)\n",
    "default_order = \"{}, {} and {}\".format('Ram','Lakshman','Bharat')\n",
    "print('\\n--- Default Order ---')\n",
    "print(default_order)\n",
    "\n",
    "# order using positional argument\n",
    "positional_order = \"{1}, {0} and {2}\".format('Ram','Lakshman','Bharat')\n",
    "print('\\n--- Positional Order ---')\n",
    "print(positional_order)\n",
    "\n",
    "# order using keyword argument\n",
    "keyword_order = \"{r}, {l} and {b}\".format(l='Lakshman',b='Bharat',r='Ram')\n",
    "print('\\n--- Keyword Order ---')\n",
    "print(keyword_order)"
   ]
  },
  {
   "cell_type": "code",
   "execution_count": 2,
   "metadata": {},
   "outputs": [
    {
     "ename": "NameError",
     "evalue": "name 'p' is not defined",
     "output_type": "error",
     "traceback": [
      "\u001b[1;31m---------------------------------------------------------------------------\u001b[0m",
      "\u001b[1;31mNameError\u001b[0m                                 Traceback (most recent call last)",
      "\u001b[1;32m<ipython-input-2-4bca7a46d6db>\u001b[0m in \u001b[0;36m<module>\u001b[1;34m\u001b[0m\n\u001b[0;32m      1\u001b[0m \u001b[1;31m# Python program to check if a string is palindrome or not\u001b[0m\u001b[1;33m\u001b[0m\u001b[1;33m\u001b[0m\u001b[1;33m\u001b[0m\u001b[0m\n\u001b[0;32m      2\u001b[0m \u001b[0mst\u001b[0m \u001b[1;33m=\u001b[0m \u001b[1;34m'malayalam'\u001b[0m\u001b[1;33m\u001b[0m\u001b[1;33m\u001b[0m\u001b[0m\n\u001b[1;32m----> 3\u001b[1;33m \u001b[0mprint\u001b[0m\u001b[1;33m(\u001b[0m\u001b[0mp\u001b[0m\u001b[1;33m)\u001b[0m\u001b[1;33m\u001b[0m\u001b[1;33m\u001b[0m\u001b[0m\n\u001b[0m\u001b[0;32m      4\u001b[0m \u001b[0mj\u001b[0m \u001b[1;33m=\u001b[0m \u001b[1;33m-\u001b[0m\u001b[1;36m1\u001b[0m\u001b[1;33m\u001b[0m\u001b[1;33m\u001b[0m\u001b[0m\n\u001b[0;32m      5\u001b[0m \u001b[0mflag\u001b[0m \u001b[1;33m=\u001b[0m \u001b[1;36m0\u001b[0m\u001b[1;33m\u001b[0m\u001b[1;33m\u001b[0m\u001b[0m\n",
      "\u001b[1;31mNameError\u001b[0m: name 'p' is not defined"
     ]
    }
   ],
   "source": [
    "# Python program to check if a string is palindrome or not \n",
    "st = 'malayalam'\n",
    "print(p)\n",
    "j = -1\n",
    "flag = 0\n",
    "for i in st: \n",
    "    if i != st[j]: \n",
    "      j = j - 1\n",
    "      flag = 1\n",
    "      break\n",
    "    j = j - 1\n",
    "if flag == 1: \n",
    "    print(\"NO\") \n",
    "else: \n",
    "    print(\"Yes\")"
   ]
  },
  {
   "cell_type": "code",
   "execution_count": 21,
   "metadata": {},
   "outputs": [
    {
     "name": "stdout",
     "output_type": "stream",
     "text": [
      "malayalam\n",
      "p\n"
     ]
    }
   ],
   "source": [
    "# Python program to check if a string is palindrome or not \n",
    "str1 ='malayalam'\n",
    "str2 = str1[::-1]      # Reverse\n",
    "print(str2)\n",
    "if(str1==str2):\n",
    "    print(\"p\")\n",
    "else:\n",
    "    print(\"NP\")"
   ]
  },
  {
   "cell_type": "code",
   "execution_count": 5,
   "metadata": {},
   "outputs": [
    {
     "name": "stdout",
     "output_type": "stream",
     "text": [
      "[9, 8, 7, 6, 5, 4, 3, 2, 1, 0, 8]\n",
      "[9, 7, 5, 3, 1, 8]\n",
      "[8, 0, 1, 2, 3, 4, 5, 6, 7, 8, 9]\n",
      "[8, 0, 1, 2, 3, 4, 5, 6, 7, 8, 9]\n"
     ]
    }
   ],
   "source": [
    "# Extended Slices\n",
    "L= [9, 8, 7, 6, 5, 4, 3, 2, 1, 0, 8]\n",
    "\n",
    "# Negative values also work to make a copy of the same list in reverse order:\n",
    "# print(start:end(not including):step)\n",
    "\n",
    "print(L[::1])   \n",
    "print(L[::2])\n",
    "print(L[-1:0:-1])\n",
    "print(L[::-1]) # reverse"
   ]
  },
  {
   "cell_type": "code",
   "execution_count": 2,
   "metadata": {},
   "outputs": [],
   "source": [
    "# Python Program to Remove Punctuations From a String define punctuation\n",
    "punctuations = '''!()-[]{};:\"'\\,<>./?@#$%^&*_~'''\n",
    "str11=\"How are you? well done! bongirwarvk@rknec.edu, \""
   ]
  },
  {
   "cell_type": "code",
   "execution_count": null,
   "metadata": {},
   "outputs": [],
   "source": [
    "# Python Program to Remove vowels From a String "
   ]
  },
  {
   "cell_type": "code",
   "execution_count": 1,
   "metadata": {},
   "outputs": [],
   "source": [
    "# Python Program to Sort Words in Alphabetic Order\n",
    "# Program to sort alphabetically the words form a string provided by the user   "
   ]
  },
  {
   "cell_type": "code",
   "execution_count": null,
   "metadata": {},
   "outputs": [],
   "source": [
    "list =split"
   ]
  }
 ],
 "metadata": {
  "kernelspec": {
   "display_name": "Python 3",
   "language": "python",
   "name": "python3"
  },
  "language_info": {
   "codemirror_mode": {
    "name": "ipython",
    "version": 3
   },
   "file_extension": ".py",
   "mimetype": "text/x-python",
   "name": "python",
   "nbconvert_exporter": "python",
   "pygments_lexer": "ipython3",
   "version": "3.7.6"
  }
 },
 "nbformat": 4,
 "nbformat_minor": 2
}
