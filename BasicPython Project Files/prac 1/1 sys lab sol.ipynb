{
 "cells": [
  {
   "cell_type": "code",
   "execution_count": 9,
   "metadata": {},
   "outputs": [
    {
     "name": "stdout",
     "output_type": "stream",
     "text": [
      "Enter the number 64\n",
      "8.0\n"
     ]
    }
   ],
   "source": [
    "#program to find square root of a number\n",
    "k=input(\"Enter the number \")\n",
    "print(int(k)**0.5)"
   ]
  },
  {
   "cell_type": "code",
   "execution_count": 10,
   "metadata": {},
   "outputs": [
    {
     "name": "stdout",
     "output_type": "stream",
     "text": [
      "Enter the temperature 32\n",
      "89.6\n"
     ]
    }
   ],
   "source": [
    "#program to convert celsius to fahrenheit\n",
    "k=input(\"Enter the temperature \")\n",
    "print((int(k)*(9/5))+32)"
   ]
  },
  {
   "cell_type": "code",
   "execution_count": 8,
   "metadata": {},
   "outputs": [
    {
     "name": "stdout",
     "output_type": "stream",
     "text": [
      "ax^2+bx+c is form of equation\n",
      "enter a 2\n",
      "enter b -5\n",
      "enter c 2\n",
      "roots are\n",
      "2.0 0.5\n"
     ]
    }
   ],
   "source": [
    "#program to roots of quadratic equation\n",
    "print(\"ax^2+bx+c is form of equation\")\n",
    "a=input(\"enter a \")\n",
    "a=float(a)\n",
    "b=input(\"enter b \")\n",
    "b=float(b)\n",
    "c=input(\"enter c \")\n",
    "c=float(c)\n",
    "r1=((-1*b)+((b**2)-(4*a*c))**0.5)/(2*a)\n",
    "r2=((-1*b)-((b**2)-(4*a*c))**0.5)/(2*a)\n",
    "print(\"roots are\")\n",
    "print(r1,r2)"
   ]
  }
 ],
 "metadata": {
  "kernelspec": {
   "display_name": "Python 3",
   "language": "python",
   "name": "python3"
  },
  "language_info": {
   "codemirror_mode": {
    "name": "ipython",
    "version": 3
   },
   "file_extension": ".py",
   "mimetype": "text/x-python",
   "name": "python",
   "nbconvert_exporter": "python",
   "pygments_lexer": "ipython3",
   "version": "3.7.6"
  }
 },
 "nbformat": 4,
 "nbformat_minor": 4
}
