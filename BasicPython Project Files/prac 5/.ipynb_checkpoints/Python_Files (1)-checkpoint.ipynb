{
 "cells": [
  {
   "cell_type": "markdown",
   "metadata": {},
   "source": [
    "Files\n",
    "Files are named locations on disk to store related information. They are used to permanently store data in a non-volatile memory (e.g. hard disk).\n",
    "\n",
    "Since Random Access Memory (RAM) is volatile (which loses its data when the computer is turned off), we use files for future use of the data by permanently storing them.\n",
    "\n",
    "When we want to read from or write to a file, we need to open it first. When we are done, it needs to be closed so that the resources that are tied with the file are freed.\n",
    "\n",
    "Hence, in Python, a file operation takes place in the following order:\n",
    "\n",
    "Open a file\n",
    "\n",
    "Read or write (perform operation)\n",
    "\n",
    "Close the file"
   ]
  },
  {
   "cell_type": "code",
   "execution_count": 34,
   "metadata": {},
   "outputs": [],
   "source": [
    "# Opening Files in Python\n",
    "f = open(\"test.txt\")    # open file in current directory"
   ]
  },
  {
   "cell_type": "code",
   "execution_count": 35,
   "metadata": {},
   "outputs": [],
   "source": [
    "f = open(\"C:/Python38/README.txt\")  # specifying full path"
   ]
  },
  {
   "cell_type": "markdown",
   "metadata": {},
   "source": [
    "We can specify the mode while opening a file. In mode, we specify whether we want to read r, \n",
    "write w or append a to the file. We can also specify if we want to open the file in text mode or binary mode.\n",
    "\n",
    "The default is reading in text mode. In this mode, we get strings when reading from the file.\n",
    "\n",
    "On the other hand, binary mode returns bytes and this is the mode to be used \n",
    "when dealing with non-text files like images or executable files."
   ]
  },
  {
   "cell_type": "markdown",
   "metadata": {},
   "source": [
    "Mode\tDescription\n",
    "r\tOpens a file for reading. (default)\n",
    "w\tOpens a file for writing. Creates a new file if it does not exist or truncates the file if it exists.\n",
    "x\tOpens a file for exclusive creation. If the file already exists, the operation fails.\n",
    "a\tOpens a file for appending at the end of the file without truncating it. Creates a new file if it does not exist.\n",
    "t\tOpens in text mode. (default)\n",
    "b\tOpens in binary mode.\n",
    "+\tOpens a file for updating (reading and writing)"
   ]
  },
  {
   "cell_type": "code",
   "execution_count": 36,
   "metadata": {},
   "outputs": [],
   "source": [
    "f = open(\"test.txt\")      # equivalent to 'r' or 'rt'\n",
    "f = open(\"test.txt\",'w')  # write in text mode\n",
    "#f = open(\"test1.bmp\",'r+b') # read and write in binary mode"
   ]
  },
  {
   "cell_type": "code",
   "execution_count": 37,
   "metadata": {},
   "outputs": [],
   "source": [
    "# Writing to Files in Python\n",
    "with open(\"test.txt\",'w',encoding = 'utf-8') as f:\n",
    "    f.write(\"my first file\\n\")\n",
    "    f.write(\"This file\\n\\n\")\n",
    "    f.write(\"contains three lines\\n\")\n",
    "f.close()"
   ]
  },
  {
   "cell_type": "code",
   "execution_count": 38,
   "metadata": {},
   "outputs": [
    {
     "data": {
      "text/plain": [
       "'my'"
      ]
     },
     "execution_count": 38,
     "metadata": {},
     "output_type": "execute_result"
    }
   ],
   "source": [
    "# Reading Files in Python\n",
    "f = open(\"test.txt\",'r')#,encoding = 'utf-8')\n",
    "f.read(2)    # read the first 4 data"
   ]
  },
  {
   "cell_type": "code",
   "execution_count": 41,
   "metadata": {},
   "outputs": [
    {
     "data": {
      "text/plain": [
       "''"
      ]
     },
     "execution_count": 41,
     "metadata": {},
     "output_type": "execute_result"
    }
   ],
   "source": [
    "f.read(-6)"
   ]
  },
  {
   "cell_type": "code",
   "execution_count": 43,
   "metadata": {},
   "outputs": [
    {
     "data": {
      "text/plain": [
       "'my first file\\nThis file\\n\\ncontains three lines\\n'"
      ]
     },
     "execution_count": 43,
     "metadata": {},
     "output_type": "execute_result"
    }
   ],
   "source": [
    "f.seek(0)\n",
    "f.read()    # read the next 4 data"
   ]
  },
  {
   "cell_type": "code",
   "execution_count": 17,
   "metadata": {},
   "outputs": [
    {
     "data": {
      "text/plain": [
       "'irst'"
      ]
     },
     "execution_count": 17,
     "metadata": {},
     "output_type": "execute_result"
    }
   ],
   "source": [
    "f.read(4) "
   ]
  },
  {
   "cell_type": "code",
   "execution_count": 18,
   "metadata": {},
   "outputs": [
    {
     "data": {
      "text/plain": [
       "' file\\nThis file\\n\\ncontains three lines\\n'"
      ]
     },
     "execution_count": 18,
     "metadata": {},
     "output_type": "execute_result"
    }
   ],
   "source": [
    "f.read()     # read in the rest till end of file"
   ]
  },
  {
   "cell_type": "code",
   "execution_count": 11,
   "metadata": {},
   "outputs": [
    {
     "data": {
      "text/plain": [
       "''"
      ]
     },
     "execution_count": 11,
     "metadata": {},
     "output_type": "execute_result"
    }
   ],
   "source": [
    "f.read()  # further reading returns empty sting"
   ]
  },
  {
   "cell_type": "markdown",
   "metadata": {},
   "source": [
    "We can see that the read() method returns a newline as '\\n'. \n",
    "Once the end of the file is reached, we get an empty string on further reading.\n",
    "\n",
    "We can change our current file cursor (position) using the seek() method. \n",
    "Similarly, the tell() method returns our current position (in number of bytes)."
   ]
  },
  {
   "cell_type": "code",
   "execution_count": 19,
   "metadata": {},
   "outputs": [
    {
     "data": {
      "text/plain": [
       "50"
      ]
     },
     "execution_count": 19,
     "metadata": {},
     "output_type": "execute_result"
    }
   ],
   "source": [
    "f.tell()    # get the current file position"
   ]
  },
  {
   "cell_type": "code",
   "execution_count": 20,
   "metadata": {},
   "outputs": [
    {
     "data": {
      "text/plain": [
       "4"
      ]
     },
     "execution_count": 20,
     "metadata": {},
     "output_type": "execute_result"
    }
   ],
   "source": [
    "f.seek(4)   # bring file cursor to initial position"
   ]
  },
  {
   "cell_type": "code",
   "execution_count": 21,
   "metadata": {},
   "outputs": [
    {
     "name": "stdout",
     "output_type": "stream",
     "text": [
      "irst file\n",
      "This file\n",
      "\n",
      "contains three lines\n",
      "\n"
     ]
    }
   ],
   "source": [
    "print(f.read())  # read the entire file"
   ]
  },
  {
   "cell_type": "code",
   "execution_count": 26,
   "metadata": {},
   "outputs": [
    {
     "name": "stdout",
     "output_type": "stream",
     "text": [
      "my first file\n",
      "my first file\n",
      "\n",
      "This file\n",
      "This file\n",
      "\n",
      "\n",
      "\n",
      "\n",
      "contains three lines\n",
      "contains three lines\n",
      "\n"
     ]
    }
   ],
   "source": [
    "# We can read a file line-by-line using a for loop. This is both efficient and fast.\n",
    "f = open(\"test.txt\",'r',encoding = 'utf-8')\n",
    "for line in f:\n",
    "    print(line, end = '')\n",
    "    print(line)\n",
    "f.close()"
   ]
  },
  {
   "cell_type": "markdown",
   "metadata": {},
   "source": [
    "We can use the readline() method to read individual lines of a file. \n",
    "This method reads a file till the newline, including the newline character."
   ]
  },
  {
   "cell_type": "code",
   "execution_count": 19,
   "metadata": {},
   "outputs": [],
   "source": [
    "# Writing to Files in Python\n",
    "with open(\"test.txt\",'w',encoding = 'utf-8') as f:\n",
    "    f.write(\"my first file\\n\")\n",
    "    f.write(\"This file\\n\\n\")\n",
    "    f.write(\"contains three lines\\n\")\n",
    "f.close()"
   ]
  },
  {
   "cell_type": "code",
   "execution_count": 27,
   "metadata": {},
   "outputs": [
    {
     "data": {
      "text/plain": [
       "'my first file\\n'"
      ]
     },
     "execution_count": 27,
     "metadata": {},
     "output_type": "execute_result"
    }
   ],
   "source": [
    "f=open(\"test.txt\",'r')\n",
    "f.readline()"
   ]
  },
  {
   "cell_type": "code",
   "execution_count": 28,
   "metadata": {},
   "outputs": [
    {
     "data": {
      "text/plain": [
       "'This file\\n'"
      ]
     },
     "execution_count": 28,
     "metadata": {},
     "output_type": "execute_result"
    }
   ],
   "source": [
    "f.readline()"
   ]
  },
  {
   "cell_type": "code",
   "execution_count": 29,
   "metadata": {},
   "outputs": [
    {
     "data": {
      "text/plain": [
       "'\\n'"
      ]
     },
     "execution_count": 29,
     "metadata": {},
     "output_type": "execute_result"
    }
   ],
   "source": [
    "f.readline()"
   ]
  },
  {
   "cell_type": "code",
   "execution_count": 32,
   "metadata": {},
   "outputs": [],
   "source": [
    "f.readline()\n",
    "f.close()"
   ]
  },
  {
   "cell_type": "code",
   "execution_count": 33,
   "metadata": {},
   "outputs": [
    {
     "name": "stdout",
     "output_type": "stream",
     "text": [
      "65\n"
     ]
    }
   ],
   "source": [
    "# The ord() function returns the number representing the unicode code \n",
    "# of a specified character. Syntax. ord(character). \n",
    "\n",
    "print(ord('A'))"
   ]
  },
  {
   "cell_type": "markdown",
   "metadata": {},
   "source": [
    "# Python File Methods"
   ]
  },
  {
   "cell_type": "markdown",
   "metadata": {},
   "source": [
    "Method\t    Description\n",
    "close()\t    Closes an opened file. It has no effect if the file is already closed.\n",
    "detach()\tSeparates the underlying binary buffer from the TextIOBase and returns it.\n",
    "fileno()\tReturns an integer number (file descriptor) of the file.\n",
    "flush()\t    Flushes the write buffer of the file stream.\n",
    "isatty()\tReturns True if the file stream is interactive.\n",
    "read(n)\t    Reads at most n characters from the file. Reads till end of file if it is negative or None.\n",
    "readable()\tReturns True if the file stream can be read from.\n",
    "\n",
    "seekable()\tReturns True if the file stream supports random access.\n",
    "tell()\t    Returns the current file location.\n",
    "\n",
    "writable()\tReturns True if the file stream can be written to.\n",
    "write(s)\tWrites the string s to the file and returns the number of characters written.\n",
    "\n",
    "writelines(lines)\tWrites a list of lines to the file.\n",
    "readline(n=-1)\t    Reads and returns one line from the file. \n",
    "                    Reads in at most n bytes if specified.\n",
    "readlines(n=-1)\t    Reads and returns a list of lines from the file. \n",
    "                    Reads in at most n bytes/characters if specified.\n",
    "seek(offset,from=SEEK_SET)\tChanges the file position to offset bytes, \n",
    "                    in reference to from (start, current, end).\n",
    "truncate(size=None)\tResizes the file stream to size bytes. If size is not \n",
    "                    specified, resizes to current location."
   ]
  },
  {
   "cell_type": "markdown",
   "metadata": {},
   "source": [
    "# Modes of files"
   ]
  },
  {
   "cell_type": "markdown",
   "metadata": {},
   "source": [
    "Sr.No.\tModes & Description\n",
    "1   r\n",
    "\n",
    "Opens a file for reading only. The file pointer is placed at the beginning of the file. This is the default mode.\n",
    "\n",
    "2   rb\n",
    "\n",
    "Opens a file for reading only in binary format. The file pointer is placed at the beginning of the file. This is the default mode.\n",
    "\n",
    "3   r+\n",
    "\n",
    "Opens a file for both reading and writing. The file pointer placed at the beginning of the file.\n",
    "\n",
    "4  rb+\n",
    "\n",
    "Opens a file for both reading and writing in binary format. The file pointer placed at the beginning of the file.\n",
    "\n",
    "5  w\n",
    "\n",
    "Opens a file for writing only. Overwrites the file if the file exists. If the file does not exist, creates a new file for writing.\n",
    "\n",
    "6  wb\n",
    "\n",
    "Opens a file for writing only in binary format. Overwrites the file if the file exists. If the file does not exist, creates a new file for writing.\n",
    "\n",
    "7\tw+\n",
    "\n",
    "Opens a file for both writing and reading. Overwrites the existing file if the file exists. If the file does not exist, creates a new file for reading and writing.\n",
    "\n",
    "8\twb+\n",
    "\n",
    "Opens a file for both writing and reading in binary format. Overwrites the existing file if the file exists. If the file does not exist, creates a new file for reading and writing.\n",
    "\n",
    "9\ta\n",
    "\n",
    "Opens a file for appending. The file pointer is at the end of the file if the file exists. That is, the file is in the append mode. If the file does not exist, it creates a new file for writing.\n",
    "\n",
    "10\tab\n",
    "\n",
    "Opens a file for appending in binary format. The file pointer is at the end of the file if the file exists. That is, the file is in the append mode. If the file does not exist, it creates a new file for writing.\n",
    "\n",
    "11\ta+\n",
    "\n",
    "Opens a file for both appending and reading. The file pointer is at the end of the file if the file exists. The file opens in the append mode. If the file does not exist, it creates a new file for reading and writing.\n",
    "\n",
    "12\tab+\n",
    "\n",
    "Opens a file for both appending and reading in binary format. The file pointer is at the end of the file if the file exists. The file opens in the append mode. If the file does not exist, it creates a new file for reading and writing."
   ]
  },
  {
   "cell_type": "code",
   "execution_count": 46,
   "metadata": {},
   "outputs": [
    {
     "name": "stdout",
     "output_type": "stream",
     "text": [
      "Fil\n",
      "File handeling: Python provides an inbuilt\n",
      "\n",
      "function for creating, \n",
      "\n",
      "writing, and reading files. \n",
      "The length of the file is  95\n"
     ]
    }
   ],
   "source": [
    "#File handeling operations.\n",
    "# Python file method seek() sets the file's current position at the offset\n",
    "f=open(\"Src.txt\",\"w\")\n",
    "f.write(\"\"\"File handeling: Python provides an inbuilt\n",
    "function for creating, \n",
    "writing, and reading files. \"\"\")\n",
    "f.close()\n",
    "\n",
    "f=open(\"Src.txt\",\"r\")\n",
    "print(f.read(3))\n",
    "f.seek(0)\n",
    "print(f.readline())\n",
    "print(f.readline())\n",
    "print(f.readline())\n",
    "f.seek(0)\n",
    "n=len(f.read())\n",
    "print(\"The length of the file is \",n)\n",
    "f.close()"
   ]
  },
  {
   "cell_type": "markdown",
   "metadata": {},
   "source": [
    "Write a program to count the number of upper- case alphabets present \n",
    "in a text file “ABC.txt”.\n",
    "\n",
    "Text file “ABC.txt”\n",
    "Python is a powerful general-purpose programming language. \n",
    "It is used in web development, data science, creating software prototypes, and so on. \n",
    "Fortunately for beginners, Python has simple easy-to-use syntax. \n",
    "This makes Python an excellent language to learn to program for beginners.\n",
    "Our Python tutorial will guide you to learn Python one step at a time\n"
   ]
  },
  {
   "cell_type": "code",
   "execution_count": 50,
   "metadata": {},
   "outputs": [
    {
     "name": "stdout",
     "output_type": "stream",
     "text": [
      "count 9\n"
     ]
    }
   ],
   "source": [
    "f1=open(\"ABC.txt\",\"w\")\n",
    "f1.write(\"\"\"Python is a powerful general-purpose programming language. \n",
    "It is used in web development, data science, creating software prototypes, \n",
    "and so on. Fortunately for beginners, Python has simple easy-to-use syntax.\n",
    "This makes Python an excellent language to learn to program for beginners.\n",
    "Our Python tutorial will guide you to learn Python one step at a time\"\"\")\n",
    "f1.close()\n",
    "\n",
    "f1=open(\"ABC.txt\",\"r\")\n",
    "cnt=0\n",
    "for ch in f1.read():\n",
    "    if(ch.isupper()):\n",
    "        cnt+=1\n",
    "print(\"count\",cnt)\n",
    "f1.close()\n",
    "    "
   ]
  },
  {
   "cell_type": "markdown",
   "metadata": {},
   "source": [
    "Write a python program to get some information from user and store it in encrypted form in a file. Your program should decrypt the file to access the stored information."
   ]
  },
  {
   "cell_type": "code",
   "execution_count": 54,
   "metadata": {},
   "outputs": [
    {
     "name": "stdout",
     "output_type": "stream",
     "text": [
      "114\n"
     ]
    }
   ],
   "source": [
    "print(ord('r'))"
   ]
  },
  {
   "cell_type": "code",
   "execution_count": null,
   "metadata": {},
   "outputs": [],
   "source": [
    "STR- Vrushali \n",
    "V  86 \n",
    "(86 * 2) +5 = Encrypted text. 177\n",
    "\n",
    "r (114* 2) +5 =233\n",
    "177233"
   ]
  },
  {
   "cell_type": "code",
   "execution_count": 55,
   "metadata": {},
   "outputs": [
    {
     "data": {
      "text/plain": [
       "233"
      ]
     },
     "execution_count": 55,
     "metadata": {},
     "output_type": "execute_result"
    }
   ],
   "source": [
    "(114* 2) +5 "
   ]
  },
  {
   "cell_type": "code",
   "execution_count": null,
   "metadata": {},
   "outputs": [],
   "source": []
  }
 ],
 "metadata": {
  "kernelspec": {
   "display_name": "Python 3",
   "language": "python",
   "name": "python3"
  },
  "language_info": {
   "codemirror_mode": {
    "name": "ipython",
    "version": 3
   },
   "file_extension": ".py",
   "mimetype": "text/x-python",
   "name": "python",
   "nbconvert_exporter": "python",
   "pygments_lexer": "ipython3",
   "version": "3.7.6"
  }
 },
 "nbformat": 4,
 "nbformat_minor": 2
}
