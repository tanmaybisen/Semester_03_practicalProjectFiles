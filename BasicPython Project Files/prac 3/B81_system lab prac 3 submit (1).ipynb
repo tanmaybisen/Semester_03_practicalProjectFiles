{
 "cells": [
  {
   "cell_type": "code",
   "execution_count": 1,
   "metadata": {},
   "outputs": [
    {
     "name": "stdout",
     "output_type": "stream",
     "text": [
      "total vowels are : 9.\n"
     ]
    }
   ],
   "source": [
    "#Q1 occurrence of vowels inlist\n",
    "counter=0\n",
    "list1=['s','h','r','i','r','a','m','d','e','o','b','a','b','a','c','o','l','l','e','g','e']\n",
    "vowel_list=['a','e','i','o','u']\n",
    "for k in list1:\n",
    "    if k in vowel_list:\n",
    "        counter=counter+1\n",
    "print(\"total vowels are : {}.\".format(counter))"
   ]
  },
  {
   "cell_type": "code",
   "execution_count": 13,
   "metadata": {},
   "outputs": [
    {
     "name": "stdout",
     "output_type": "stream",
     "text": [
      "enter length of list to be created : 7\n",
      "enter element to be inserted : 1\n",
      "enter element to be inserted : 2\n",
      "enter element to be inserted : 3\n",
      "enter element to be inserted : 4\n",
      "enter element to be inserted : 5\n",
      "enter element to be inserted : 6\n",
      "enter element to be inserted : 7\n",
      "enter n for - (nth largest & nth smallest) values in list :4\n",
      "4 smallest are :\n",
      "[2, 3, 4, 5]\n",
      "4 largest are :\n",
      "[4, 5, 6, 7]\n"
     ]
    }
   ],
   "source": [
    "#Q2 find  N smallest and largest element from given list of intehers\n",
    "list2=[]\n",
    "x=int(input(\"enter length of list to be created : \"))\n",
    "for k in range(1,(x+1)):\n",
    "    val=int(input(\"enter element to be inserted : \"))\n",
    "    list2.append(val)\n",
    "list2.sort()\n",
    "n=int(input(\"enter n for - (nth largest & nth smallest) values in list :\"))\n",
    "\n",
    "print(\"{} smallest are :\".format(n))\n",
    "print(list2[1:n+1])\n",
    "print(\"{} largest are :\".format(n))\n",
    "print(list2[n-1:])"
   ]
  },
  {
   "cell_type": "code",
   "execution_count": 3,
   "metadata": {},
   "outputs": [
    {
     "name": "stdout",
     "output_type": "stream",
     "text": [
      "3 value is repeated 3 times. \n",
      "5 value is repeated 2 times. \n",
      "6 value is repeated 4 times. \n",
      "8 value is repeated 4 times. \n"
     ]
    }
   ],
   "source": [
    "#Q3 find repeated items (in tuple) and frequency\n",
    "tuple1=(1,3,5,6,8,8,9,0,4,3,6,2,6,3,5,8,6,7,8)\n",
    "dict1={}\n",
    "for k in tuple1:\n",
    "    count=0\n",
    "    if(k not in dict1):\n",
    "        count=count+1\n",
    "        dict1.update({k:1})    \n",
    "    else:\n",
    "        value=dict1.get(k)\n",
    "        value=value+1\n",
    "        dict1[k]=value \n",
    "        \n",
    "for h in dict1:\n",
    "    t=dict1.get(h)\n",
    "    if(t>1):\n",
    "        print(\"{} value is repeated {} times. \".format(h,t))"
   ]
  },
  {
   "cell_type": "code",
   "execution_count": 5,
   "metadata": {},
   "outputs": [
    {
     "name": "stdout",
     "output_type": "stream",
     "text": [
      "[1, 5, 6, 9]\n",
      "[85, 3, 6, 4, 5]\n"
     ]
    }
   ],
   "source": [
    "#Q4 create two chunks\n",
    "list3=[1,5,6,9,85,3,6,4,5]\n",
    "# first_hal,f=[]\n",
    "# second_half=[]\n",
    "# x=int(input(\"enter length of list to be created : \"))\n",
    "# for k in range(1,(x+1)):\n",
    "#     val=int(input(\"enter element to be inserted : \"))\n",
    "#     list3.append(val)\n",
    "# print(list3)\n",
    "# print(\"Two equal sized (approx.) lists created are : \")\n",
    "# for i in list3[0:int(x/2)]:\n",
    "#     first_half.append(i)\n",
    "# for j in list3[int(x/2):]:\n",
    "#     second_half.append(j)\n",
    "# print(list(reversed(first_half)))\n",
    "# print(list(reversed(second_half)))        \n",
    "p=len(list3)/2\n",
    "print(list3[:int(p)])\n",
    "print(list3[int(p):])"
   ]
  },
  {
   "cell_type": "code",
   "execution_count": 5,
   "metadata": {},
   "outputs": [
    {
     "name": "stdout",
     "output_type": "stream",
     "text": [
      "\n",
      "\n",
      "enter length of list to be created : 6\n",
      "enter element to be inserted : 1\n",
      "enter element to be inserted : 2\n",
      "enter element to be inserted : 3\n",
      "enter element to be inserted : 4\n",
      "enter element to be inserted : 5\n",
      "enter element to be inserted : 6\n",
      "enter number of rotations you want : 4\n",
      "[6, 1, 2, 3, 4, 5]\n",
      "[5, 6, 1, 2, 3, 4]\n",
      "[4, 5, 6, 1, 2, 3]\n",
      "[3, 4, 5, 6, 1, 2]\n",
      "\n",
      "Final result : \n",
      "[3, 4, 5, 6, 1, 2]\n"
     ]
    }
   ],
   "source": [
    "#Q5 list rotator\n",
    "def rotate_list(L,k):\n",
    "    if(k>0):\n",
    "        count=int(len(L)-1)\n",
    "        for itr in range(1,k+1):\n",
    "            var=L[-1]\n",
    "            for k in range(1,len(L)+1):\n",
    "                if(count==0):\n",
    "                    count=int(len(L)-1)\n",
    "                    L[0]=var\n",
    "                else:\n",
    "                    a=L[count]\n",
    "                    L[count]=L[count-1]\n",
    "                    count=count-1\n",
    "            print(L)\n",
    "        return L    \n",
    "    else:\n",
    "        return L\n",
    "\n",
    "print(\"\\n\")        \n",
    "t=[]\n",
    "x=int(input(\"enter length of list to be created : \"))\n",
    "\n",
    "for k in range(1,(x+1)):\n",
    "    val=int(input(\"enter element to be inserted : \"))\n",
    "    t.append(val)\n",
    "    \n",
    "z=int(input(\"enter number of rotations you want : \"))\n",
    "list_reciever=rotate_list(t,z)\n",
    "print(\"\\nFinal result : \")\n",
    "print(list_reciever)\n",
    "        "
   ]
  },
  {
   "cell_type": "code",
   "execution_count": 7,
   "metadata": {},
   "outputs": [
    {
     "name": "stdout",
     "output_type": "stream",
     "text": [
      "enter length of list to be created : 6\n",
      "enter char to be inserted : 12\n",
      "enter char to be inserted : 3\n",
      "enter char to be inserted : 4\n",
      "enter char to be inserted : 5\n",
      "enter char to be inserted : 6\n",
      "enter char to be inserted : 2\n",
      "Which character are you looking for : 4\n",
      "found\n"
     ]
    }
   ],
   "source": [
    "#Q6 binary search on list of characters\n",
    "char_list=[]\n",
    "x=int(input(\"enter length of list to be created : \"))\n",
    "for k in range(1,(x+1)):\n",
    "    val=input(\"enter char to be inserted : \")\n",
    "    char_list.append(val)\n",
    "\n",
    "sorted(char_list)    \n",
    "first=0\n",
    "last=len(char_list)-1\n",
    "mid=((first+last)//(2))                               #floor division (rounded to lower value)\n",
    "find=input(\"Which character are you looking for : \")\n",
    "for j in char_list:\n",
    "    if(char_list[mid]<find):\n",
    "        first=mid+1\n",
    "    else:\n",
    "        if(char_list[mid]>find):\n",
    "            last=mid-1\n",
    "        else:\n",
    "            print(\"found\")\n",
    "            break;\n",
    "if(first>last):            \n",
    "    print(\"not found\")            \n"
   ]
  }
 ],
 "metadata": {
  "kernelspec": {
   "display_name": "Python 3",
   "language": "python",
   "name": "python3"
  },
  "language_info": {
   "codemirror_mode": {
    "name": "ipython",
    "version": 3
   },
   "file_extension": ".py",
   "mimetype": "text/x-python",
   "name": "python",
   "nbconvert_exporter": "python",
   "pygments_lexer": "ipython3",
   "version": "3.7.6"
  }
 },
 "nbformat": 4,
 "nbformat_minor": 4
}
