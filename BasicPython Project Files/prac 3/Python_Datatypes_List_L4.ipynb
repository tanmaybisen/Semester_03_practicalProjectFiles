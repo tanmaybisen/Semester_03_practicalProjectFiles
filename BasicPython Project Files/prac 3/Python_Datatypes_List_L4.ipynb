{
 "cells": [
  {
   "cell_type": "code",
   "execution_count": 1,
   "metadata": {},
   "outputs": [
    {
     "name": "stdout",
     "output_type": "stream",
     "text": [
      "a[2] =  15\n",
      "a[0:3] =  [5, 10, 15]\n",
      "a[5:] =  [30, 35, 40.5]\n"
     ]
    }
   ],
   "source": [
    "\"\"\"List is an ordered sequence of items. It is one of the most used datatype in \n",
    "Python and is very flexible. \n",
    "All the items in a list do not need to be of the same type.\n",
    "\"\"\"\n",
    "\n",
    "a = [5,10,15,20,25,30,35,40.5]\n",
    "\n",
    "\n",
    "print(\"a[2] = \", a[2])\n",
    "\n",
    "\n",
    "print(\"a[0:3] = \", a[0:3]) # slicing a[start: end(not including end)][0:3] 0,1,2\n",
    "\n",
    "\n",
    "print(\"a[5:] = \", a[5:])  # [start:end]"
   ]
  },
  {
   "cell_type": "code",
   "execution_count": 4,
   "metadata": {},
   "outputs": [
    {
     "name": "stdout",
     "output_type": "stream",
     "text": [
      "5\n",
      "[1, 2, 3, 4, 5]\n"
     ]
    }
   ],
   "source": [
    "li=[1,2,3,4,5]\n",
    "print(len(li))\n",
    "print(li[0:6])"
   ]
  },
  {
   "cell_type": "code",
   "execution_count": 5,
   "metadata": {},
   "outputs": [
    {
     "name": "stdout",
     "output_type": "stream",
     "text": [
      "[]\n",
      "[1, 2, 3]\n",
      "[1, 'Hello', 3.4]\n",
      "['mouse', [8, 4, 6], ['a', 'b']]\n"
     ]
    }
   ],
   "source": [
    "# empty list\n",
    "my_list = []\n",
    "print(my_list)\n",
    "\n",
    "# list of integers\n",
    "my_list = [1, 2, 3]\n",
    "print(my_list)\n",
    "\n",
    "# list with mixed data types\n",
    "my_list = [1, \"Hello\", 3.4]\n",
    "print(my_list)\n",
    "\n",
    "# nested list\n",
    "my_list = [\"mouse\", [8, 4, 6], ['a','b']]\n",
    "print(my_list)"
   ]
  },
  {
   "cell_type": "code",
   "execution_count": 9,
   "metadata": {},
   "outputs": [
    {
     "name": "stdout",
     "output_type": "stream",
     "text": [
      "p\n",
      "o\n",
      "e\n"
     ]
    }
   ],
   "source": [
    "# List indexing\n",
    "\n",
    "my_list = ['p', 'r', 'o', 'b', 'e']\n",
    "\n",
    "\n",
    "print(my_list[0])\n",
    "\n",
    "\n",
    "print(my_list[2])\n",
    "\n",
    "\n",
    "print(my_list[4])"
   ]
  },
  {
   "cell_type": "code",
   "execution_count": 11,
   "metadata": {},
   "outputs": [
    {
     "name": "stdout",
     "output_type": "stream",
     "text": [
      "y\n",
      "0\n",
      "b\n"
     ]
    }
   ],
   "source": [
    "# Nested List\n",
    "n_list = [\"Happy\", [2, 0, 1, 5],['a','b']]\n",
    "\n",
    "# Nested indexing\n",
    "print(n_list[0][4])\n",
    "\n",
    "print(n_list[1][1])\n",
    "\n",
    "print(n_list[2][1])\n",
    "\n",
    "# Error! Only integer can be used for indexing\n",
    "# print(my_list[4.0])"
   ]
  },
  {
   "cell_type": "code",
   "execution_count": 19,
   "metadata": {},
   "outputs": [
    {
     "name": "stdout",
     "output_type": "stream",
     "text": [
      "e\n",
      "p\n"
     ]
    }
   ],
   "source": [
    "# Negative indexing in lists\n",
    "my_list = ['p','r','o','b','e']\n",
    "\n",
    "print(my_list[-1])\n",
    "\n",
    "print(my_list[-5])"
   ]
  },
  {
   "cell_type": "code",
   "execution_count": 27,
   "metadata": {},
   "outputs": [
    {
     "name": "stdout",
     "output_type": "stream",
     "text": [
      "[54, 26, 11]\n"
     ]
    }
   ],
   "source": [
    "list11=[5,6,3,2,89,76,54,26,11]\n",
    "print(list11[-3:])   # print(list11[start:not including end])"
   ]
  },
  {
   "cell_type": "code",
   "execution_count": 1,
   "metadata": {},
   "outputs": [
    {
     "name": "stdout",
     "output_type": "stream",
     "text": [
      "[33, 44, 55]\n",
      "[11, 22, 33, 44, 55, 66, 77, 88, 99]\n",
      "[66, 77, 88, 99, 1, 2, 3, 4, 5]\n",
      "[11, 22, 33, 44, 55, 66, 77, 88, 99, 1, 2, 3, 4, 5]\n",
      "[11, 22, 33, 44, 55, 66, 77, 88, 99, 1, 2, 3, 4, 5]\n"
     ]
    }
   ],
   "source": [
    "# List slicing in Python\n",
    "\n",
    "\n",
    "my_list = [11,22,33,44,55,66,77,88,99,1,2,3,4,5]\n",
    "# elements 3rd to 5th\n",
    "print(my_list[2:5])\n",
    "\n",
    "# elements beginning to 4th\n",
    "print(my_list[:-5])\n",
    "\n",
    "# elements 6th to end\n",
    "print(my_list[5:])\n",
    "\n",
    "# elements beginning to end\n",
    "print(my_list[:])\n",
    "print(my_list)"
   ]
  },
  {
   "cell_type": "code",
   "execution_count": 16,
   "metadata": {},
   "outputs": [
    {
     "name": "stdout",
     "output_type": "stream",
     "text": [
      "[1, 4, 6, 8]\n",
      "[1, 3, 5, 7]\n"
     ]
    }
   ],
   "source": [
    "# Correcting mistake values in a list\n",
    "odd = [2, 4, 6, 8]\n",
    "\n",
    "# change the 1st item    \n",
    "odd[0] = 1            \n",
    "\n",
    "print(odd)\n",
    "\n",
    "# change 2nd to 4th items\n",
    "odd[1:4] = [3, 5, 7]  \n",
    "\n",
    "print(odd)    "
   ]
  },
  {
   "cell_type": "code",
   "execution_count": 17,
   "metadata": {},
   "outputs": [
    {
     "name": "stdout",
     "output_type": "stream",
     "text": [
      "[1, 3, 5, 7]\n",
      "[1, 3, 5, 7, 9, 11, 13]\n"
     ]
    }
   ],
   "source": [
    "# Appending and Extending lists in Python\n",
    "odd = [1, 3, 5]\n",
    "\n",
    "odd.append(7)\n",
    "\n",
    "print(odd)\n",
    "\n",
    "odd.extend([9, 11, 13])\n",
    "\n",
    "print(odd)"
   ]
  },
  {
   "cell_type": "code",
   "execution_count": 30,
   "metadata": {},
   "outputs": [
    {
     "name": "stdout",
     "output_type": "stream",
     "text": [
      "[1, 3, 5, 2, 4, 6]\n",
      "[1, 3, 5, 9, 7, 5]\n",
      "['re', 're', 're']\n"
     ]
    }
   ],
   "source": [
    "# Concatenating and repeating lists\n",
    "odd = [1, 3, 5]\n",
    "even = [2,4,6]\n",
    "print(odd + even)\n",
    "print(odd + [9, 7, 5])\n",
    "\n",
    "print([\"re\"] * 3)"
   ]
  },
  {
   "cell_type": "code",
   "execution_count": 29,
   "metadata": {},
   "outputs": [
    {
     "data": {
      "text/plain": [
       "'abcd'"
      ]
     },
     "execution_count": 29,
     "metadata": {},
     "output_type": "execute_result"
    }
   ],
   "source": [
    "'ab'+'cd'"
   ]
  },
  {
   "cell_type": "code",
   "execution_count": 12,
   "metadata": {},
   "outputs": [
    {
     "data": {
      "text/plain": [
       "11.6"
      ]
     },
     "execution_count": 12,
     "metadata": {},
     "output_type": "execute_result"
    }
   ],
   "source": [
    "2.6+9\n"
   ]
  },
  {
   "cell_type": "code",
   "execution_count": 14,
   "metadata": {},
   "outputs": [
    {
     "name": "stdout",
     "output_type": "stream",
     "text": [
      "[1, 100, 9]\n",
      "[5, 7, 9]\n",
      "2\n"
     ]
    }
   ],
   "source": [
    "# Demonstration of list insert() method\n",
    "odd = [1, 9]\n",
    "odd.insert(1,100)        # insert(index,ele)\n",
    "\n",
    "print(odd)\n",
    "\n",
    "odd[0:2] = [5, 7]\n",
    "\n",
    "print(odd)\n",
    "print(odd.index(9))"
   ]
  },
  {
   "cell_type": "code",
   "execution_count": 20,
   "metadata": {},
   "outputs": [
    {
     "name": "stdout",
     "output_type": "stream",
     "text": [
      "['p', 'r', 'b', 'l', 'e', 'm']\n",
      "['p', 'm']\n"
     ]
    },
    {
     "ename": "NameError",
     "evalue": "name 'my_list' is not defined",
     "output_type": "error",
     "traceback": [
      "\u001b[1;31m---------------------------------------------------------------------------\u001b[0m",
      "\u001b[1;31mNameError\u001b[0m                                 Traceback (most recent call last)",
      "\u001b[1;32m<ipython-input-20-081d50d030eb>\u001b[0m in \u001b[0;36m<module>\u001b[1;34m\u001b[0m\n\u001b[0;32m     16\u001b[0m \u001b[1;33m\u001b[0m\u001b[0m\n\u001b[0;32m     17\u001b[0m \u001b[1;31m# Error: List not defined\u001b[0m\u001b[1;33m\u001b[0m\u001b[1;33m\u001b[0m\u001b[1;33m\u001b[0m\u001b[0m\n\u001b[1;32m---> 18\u001b[1;33m \u001b[0mprint\u001b[0m\u001b[1;33m(\u001b[0m\u001b[0mmy_list\u001b[0m\u001b[1;33m)\u001b[0m\u001b[1;33m\u001b[0m\u001b[1;33m\u001b[0m\u001b[0m\n\u001b[0m",
      "\u001b[1;31mNameError\u001b[0m: name 'my_list' is not defined"
     ]
    }
   ],
   "source": [
    "# Deleting list items\n",
    "my_list = ['p', 'r', 'o', 'b', 'l', 'e', 'm']\n",
    "\n",
    "# delete one item\n",
    "del my_list[2]\n",
    "\n",
    "print(my_list)\n",
    "\n",
    "# delete multiple items\n",
    "del my_list[1:5]\n",
    "\n",
    "print(my_list)\n",
    "\n",
    "# delete entire list\n",
    "del my_list\n",
    "\n",
    "# Error: List not defined\n",
    "print(my_list)"
   ]
  },
  {
   "cell_type": "code",
   "execution_count": 6,
   "metadata": {},
   "outputs": [
    {
     "data": {
      "text/plain": [
       "'Python List Methods\\nappend() - Add an element to the end of the list\\nextend() - Add all elements of a list to the another list\\ninsert() - Insert an item at the defined index\\nremove() - Removes an item from the list\\npop() - Removes and returns an element at the given index\\nclear() - Removes all items from the list\\nindex() - Returns the index of the first matched item\\ncount() - Returns the count of the number of items passed as an argument\\nsort() - Sort items in a list in ascending order\\nreverse() - Reverse the order of items in the list\\ncopy() - Returns a shallow copy of the list'"
      ]
     },
     "execution_count": 6,
     "metadata": {},
     "output_type": "execute_result"
    }
   ],
   "source": [
    "\"\"\"Python List Methods\n",
    "append() - Add an element to the end of the list\n",
    "extend() - Add all elements of a list to the another list\n",
    "insert() - Insert an item at the defined index\n",
    "remove() - Removes an item from the list\n",
    "pop() - Removes and returns an element at the given index\n",
    "clear() - Removes all items from the list\n",
    "index() - Returns the index of the first matched item\n",
    "count() - Returns the count of the number of items passed as an argument\n",
    "sort() - Sort items in a list in ascending order\n",
    "reverse() - Reverse the order of items in the list\n",
    "copy() - Returns a shallow copy of the list\"\"\""
   ]
  },
  {
   "cell_type": "code",
   "execution_count": 39,
   "metadata": {},
   "outputs": [
    {
     "name": "stdout",
     "output_type": "stream",
     "text": [
      "[5, 4, 3, 2, 1, 99, 88, 77, 66, 55, 44, 33, 22, 11]\n",
      "Palindrome\n"
     ]
    }
   ],
   "source": [
    " my_list = [11,22,33,44,55,66,77,88,99,1,2,3,4,5]\n",
    "# my_list = ['s','h','r','i','r','a','m','d','e','o','b','a','b','a','c','o','l','l','e','g','e'] \n",
    "my_list.reverse()\n",
    "print(my_list)\n",
    "\n",
    "l1=[1,2,3,4,5]\n",
    "l2=[5,4,3,2,1]\n",
    "l1.reverse()\n",
    "if(l1==l2):\n",
    "    print(\"Palindrome\")"
   ]
  },
  {
   "cell_type": "code",
   "execution_count": null,
   "metadata": {},
   "outputs": [],
   "source": []
  },
  {
   "cell_type": "code",
   "execution_count": 20,
   "metadata": {},
   "outputs": [
    {
     "name": "stdout",
     "output_type": "stream",
     "text": [
      "5\n",
      "4\n"
     ]
    }
   ],
   "source": [
    "# Count occurrences of an element in a list\n",
    "list1= [5, 4, 3, 2, 1, 99, 88, 5,77, 66, 55,5, 44, 33,5, 22, 11,'5']\n",
    "x=int(input())\n",
    "count=0\n",
    "for ele in list1:\n",
    "    if(ele==x):\n",
    "        count+=1\n",
    "print(count)"
   ]
  },
  {
   "cell_type": "code",
   "execution_count": 26,
   "metadata": {},
   "outputs": [
    {
     "name": "stdout",
     "output_type": "stream",
     "text": [
      "[1, 4, 9, 16, 25, 36, 49, 64, 81, 100, 121, 144, 169, 196, 225, 256, 289, 324, 361, 400]\n",
      "81\n",
      "Perfect Sq\n",
      "8\n"
     ]
    }
   ],
   "source": [
    "# Linear Search\n",
    "# Create the list of squares from 1 to 20. \n",
    "# check the entered no. is perfect square or not by checking its avaiability in the list.\n",
    "\n",
    "sq=[]\n",
    "N=20\n",
    "flag=0\n",
    "for i in range(1,N+1):\n",
    "    sq.append(i**2)\n",
    "print(sq)\n",
    "no=int(input())\n",
    "for ele in sq:\n",
    "    if(ele==no):\n",
    "        flag=1\n",
    "        print(\"Perfect Sq\")\n",
    "if(flag==0):\n",
    "    print(\"No is not present\")\n",
    "print(sq.index(no))"
   ]
  },
  {
   "cell_type": "code",
   "execution_count": 27,
   "metadata": {},
   "outputs": [],
   "source": [
    "# HOME WORK   Count occurrences of vowels in a list\n",
    "list = ['s','h','r','i','r','a','m','d','e','o','b','a','b','a','c','o','l','l','e','g','e'] \n"
   ]
  },
  {
   "cell_type": "code",
   "execution_count": null,
   "metadata": {},
   "outputs": [],
   "source": [
    "# Python program to find N largest and smallest element from given list of integers \n",
    "lst=[11,22,33,1,2,3,4,6,7,89,43,24,95,60,-5,-199]\n",
    "\n",
    "smllest\n",
    "largest"
   ]
  }
 ],
 "metadata": {
  "kernelspec": {
   "display_name": "Python 3",
   "language": "python",
   "name": "python3"
  },
  "language_info": {
   "codemirror_mode": {
    "name": "ipython",
    "version": 3
   },
   "file_extension": ".py",
   "mimetype": "text/x-python",
   "name": "python",
   "nbconvert_exporter": "python",
   "pygments_lexer": "ipython3",
   "version": "3.7.6"
  }
 },
 "nbformat": 4,
 "nbformat_minor": 2
}
