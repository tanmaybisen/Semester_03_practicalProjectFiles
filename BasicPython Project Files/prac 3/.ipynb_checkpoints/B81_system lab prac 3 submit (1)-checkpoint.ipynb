{
 "cells": [
  {
   "cell_type": "code",
   "execution_count": 1,
   "metadata": {},
   "outputs": [
    {
     "name": "stdout",
     "output_type": "stream",
     "text": [
      "total vowels are : 9.\n"
     ]
    }
   ],
   "source": [
    "#Q1 occurrence of vowels inlist\n",
    "counter=0\n",
    "list1=['s','h','r','i','r','a','m','d','e','o','b','a','b','a','c','o','l','l','e','g','e']\n",
    "vowel_list=['a','e','i','o','u']\n",
    "for k in list1:\n",
    "    if k in vowel_list:\n",
    "        counter=counter+1\n",
    "print(\"total vowels are : {}.\".format(counter))"
   ]
  },
  {
   "cell_type": "code",
   "execution_count": 13,
   "metadata": {},
   "outputs": [
    {
     "name": "stdout",
     "output_type": "stream",
     "text": [
      "enter length of list to be created : 7\n",
      "enter element to be inserted : 1\n",
      "enter element to be inserted : 2\n",
      "enter element to be inserted : 3\n",
      "enter element to be inserted : 4\n",
      "enter element to be inserted : 5\n",
      "enter element to be inserted : 6\n",
      "enter element to be inserted : 7\n",
      "enter n for - (nth largest & nth smallest) values in list :4\n",
      "4 smallest are :\n",
      "[2, 3, 4, 5]\n",
      "4 largest are :\n",
      "[4, 5, 6, 7]\n"
     ]
    }
   ],
   "source": [
    "#Q2 find  N smallest and largest element from given list of intehers\n",
    "list2=[]\n",
    "x=int(input(\"enter length of list to be created : \"))\n",
    "for k in range(1,(x+1)):\n",
    "    val=int(input(\"enter element to be inserted : \"))\n",
    "    list2.append(val)\n",
    "list2.sort()\n",
    "n=int(input(\"enter n for - (nth largest & nth smallest) values in list :\"))\n",
    "\n",
    "print(\"{} smallest are :\".format(n))\n",
    "print(list2[1:n+1])\n",
    "print(\"{} largest are :\".format(n))\n",
    "print(list2[n-1:])"
   ]
  },
  {
   "cell_type": "code",
   "execution_count": 3,
   "metadata": {},
   "outputs": [
    {
     "name": "stdout",
     "output_type": "stream",
     "text": [
      "3 value is repeated 3 times. \n",
      "5 value is repeated 2 times. \n",
      "6 value is repeated 4 times. \n",
      "8 value is repeated 4 times. \n"
     ]
    }
   ],
   "source": [
    "#Q3 find repeated items (in tuple) and frequency\n",
    "tuple1=(1,3,5,6,8,8,9,0,4,3,6,2,6,3,5,8,6,7,8)\n",
    "dict1={}\n",
    "for k in tuple1:\n",
    "    count=0\n",
    "    if(k not in dict1):\n",
    "        count=count+1\n",
    "        dict1.update({k:1})    \n",
    "    else:\n",
    "        value=dict1.get(k)\n",
    "        value=value+1\n",
    "        dict1[k]=value \n",
    "        \n",
    "for h in dict1:\n",
    "    t=dict1.get(h)\n",
    "    if(t>1):\n",
    "        print(\"{} value is repeated {} times. \".format(h,t))"
   ]
  },
  {
   "cell_type": "code",
   "execution_count": 1,
   "metadata": {},
   "outputs": [
    {
     "name": "stdout",
     "output_type": "stream",
     "text": [
      "enter length of list to be created : \n"
     ]
    },
    {
     "ename": "ValueError",
     "evalue": "invalid literal for int() with base 10: ''",
     "output_type": "error",
     "traceback": [
      "\u001b[1;31m---------------------------------------------------------------------------\u001b[0m",
      "\u001b[1;31mValueError\u001b[0m                                Traceback (most recent call last)",
      "\u001b[1;32m<ipython-input-1-f30aaeedea4d>\u001b[0m in \u001b[0;36m<module>\u001b[1;34m\u001b[0m\n\u001b[0;32m      3\u001b[0m \u001b[0mfirst_half\u001b[0m\u001b[1;33m=\u001b[0m\u001b[1;33m[\u001b[0m\u001b[1;33m]\u001b[0m\u001b[1;33m\u001b[0m\u001b[1;33m\u001b[0m\u001b[0m\n\u001b[0;32m      4\u001b[0m \u001b[0msecond_half\u001b[0m\u001b[1;33m=\u001b[0m\u001b[1;33m[\u001b[0m\u001b[1;33m]\u001b[0m\u001b[1;33m\u001b[0m\u001b[1;33m\u001b[0m\u001b[0m\n\u001b[1;32m----> 5\u001b[1;33m \u001b[0mx\u001b[0m\u001b[1;33m=\u001b[0m\u001b[0mint\u001b[0m\u001b[1;33m(\u001b[0m\u001b[0minput\u001b[0m\u001b[1;33m(\u001b[0m\u001b[1;34m\"enter length of list to be created : \"\u001b[0m\u001b[1;33m)\u001b[0m\u001b[1;33m)\u001b[0m\u001b[1;33m\u001b[0m\u001b[1;33m\u001b[0m\u001b[0m\n\u001b[0m\u001b[0;32m      6\u001b[0m \u001b[1;32mfor\u001b[0m \u001b[0mk\u001b[0m \u001b[1;32min\u001b[0m \u001b[0mrange\u001b[0m\u001b[1;33m(\u001b[0m\u001b[1;36m1\u001b[0m\u001b[1;33m,\u001b[0m\u001b[1;33m(\u001b[0m\u001b[0mx\u001b[0m\u001b[1;33m+\u001b[0m\u001b[1;36m1\u001b[0m\u001b[1;33m)\u001b[0m\u001b[1;33m)\u001b[0m\u001b[1;33m:\u001b[0m\u001b[1;33m\u001b[0m\u001b[1;33m\u001b[0m\u001b[0m\n\u001b[0;32m      7\u001b[0m     \u001b[0mval\u001b[0m\u001b[1;33m=\u001b[0m\u001b[0mint\u001b[0m\u001b[1;33m(\u001b[0m\u001b[0minput\u001b[0m\u001b[1;33m(\u001b[0m\u001b[1;34m\"enter element to be inserted : \"\u001b[0m\u001b[1;33m)\u001b[0m\u001b[1;33m)\u001b[0m\u001b[1;33m\u001b[0m\u001b[1;33m\u001b[0m\u001b[0m\n",
      "\u001b[1;31mValueError\u001b[0m: invalid literal for int() with base 10: ''"
     ]
    }
   ],
   "source": [
    "#Q4 create two chunks\n",
    "list3=[1,5,6,9,85,3,6,4,5]\n",
    "first_hal,f=[]\n",
    "second_half=[]\n",
    "x=int(input(\"enter length of list to be created : \"))\n",
    "for k in range(1,(x+1)):\n",
    "    val=int(input(\"enter element to be inserted : \"))\n",
    "    list3.append(val)\n",
    "print(list3)\n",
    "print(\"Two equal sized (approx.) lists created are : \")\n",
    "for i in list3[0:int(x/2)]:\n",
    "    first_half.append(i)\n",
    "for j in list3[int(x/2):]:\n",
    "    second_half.append(j)\n",
    "print(list(reversed(first_half)))\n",
    "print(list(reversed(second_half)))        \n",
    "\n",
    "print(list3[:len(list3/2)])\n",
    "print(list3[len(list3/2):])"
   ]
  },
  {
   "cell_type": "code",
   "execution_count": 5,
   "metadata": {},
   "outputs": [
    {
     "name": "stdout",
     "output_type": "stream",
     "text": [
      "\n",
      "\n",
      "enter length of list to be created : 6\n",
      "enter element to be inserted : 1\n",
      "enter element to be inserted : 2\n",
      "enter element to be inserted : 3\n",
      "enter element to be inserted : 4\n",
      "enter element to be inserted : 5\n",
      "enter element to be inserted : 6\n",
      "enter number of rotations you want : 4\n",
      "[6, 1, 2, 3, 4, 5]\n",
      "[5, 6, 1, 2, 3, 4]\n",
      "[4, 5, 6, 1, 2, 3]\n",
      "[3, 4, 5, 6, 1, 2]\n",
      "\n",
      "Final result : \n",
      "[3, 4, 5, 6, 1, 2]\n"
     ]
    }
   ],
   "source": [
    "#Q5 list rotator\n",
    "def rotate_list(L,k):\n",
    "    if(k>0):\n",
    "        count=int(len(L)-1)\n",
    "        for itr in range(1,k+1):\n",
    "            var=L[-1]\n",
    "            for k in range(1,len(L)+1):\n",
    "                if(count==0):\n",
    "                    count=int(len(L)-1)\n",
    "                    L[0]=var\n",
    "                else:\n",
    "                    a=L[count]\n",
    "                    L[count]=L[count-1]\n",
    "                    count=count-1\n",
    "            print(L)\n",
    "        return L    \n",
    "    else:\n",
    "        return L\n",
    "\n",
    "print(\"\\n\")        \n",
    "t=[]\n",
    "x=int(input(\"enter length of list to be created : \"))\n",
    "\n",
    "for k in range(1,(x+1)):\n",
    "    val=int(input(\"enter element to be inserted : \"))\n",
    "    t.append(val)\n",
    "    \n",
    "z=int(input(\"enter number of rotations you want : \"))\n",
    "list_reciever=rotate_list(t,z)\n",
    "print(\"\\nFinal result : \")\n",
    "print(list_reciever)\n",
    "        "
   ]
  },
  {
   "cell_type": "code",
   "execution_count": 7,
   "metadata": {},
   "outputs": [
    {
     "name": "stdout",
     "output_type": "stream",
     "text": [
      "enter length of list to be created : 5\n",
      "enter char to be inserted : w\n",
      "enter char to be inserted : r\n",
      "enter char to be inserted : b\n",
      "enter char to be inserted : i\n",
      "enter char to be inserted : f\n",
      "Which character are you looking for : b\n",
      "found\n"
     ]
    }
   ],
   "source": [
    "#Q6 binary search on list of characters\n",
    "char_list=[]\n",
    "x=int(input(\"enter length of list to be created : \"))\n",
    "for k in range(1,(x+1)):\n",
    "    val=input(\"enter char to be inserted : \")\n",
    "    char_list.append(val)\n",
    "\n",
    "sorted(char_list)    \n",
    "first=0\n",
    "last=len(char_list)-1\n",
    "mid=((first+last)//(2))\n",
    "find=input(\"Which character are you looking for : \")\n",
    "for j in char_list:\n",
    "    if(char_list[mid]<find):\n",
    "        first=mid+1\n",
    "    else:\n",
    "        if(char_list[mid]>find):\n",
    "            last=mid-1\n",
    "        else:\n",
    "            print(\"found\")\n",
    "            break;\n",
    "if(first>last):            \n",
    "    print(\"not found\")            \n"
   ]
  }
 ],
 "metadata": {
  "kernelspec": {
   "display_name": "Python 3",
   "language": "python",
   "name": "python3"
  },
  "language_info": {
   "codemirror_mode": {
    "name": "ipython",
    "version": 3
   },
   "file_extension": ".py",
   "mimetype": "text/x-python",
   "name": "python",
   "nbconvert_exporter": "python",
   "pygments_lexer": "ipython3",
   "version": "3.7.6"
  }
 },
 "nbformat": 4,
 "nbformat_minor": 4
}
