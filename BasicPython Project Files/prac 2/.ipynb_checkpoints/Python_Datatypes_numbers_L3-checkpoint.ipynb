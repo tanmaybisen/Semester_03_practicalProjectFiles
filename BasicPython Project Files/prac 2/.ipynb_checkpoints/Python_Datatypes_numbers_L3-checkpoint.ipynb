{
 "cells": [
  {
   "cell_type": "markdown",
   "metadata": {},
   "source": [
    "Number Data Type in Python\n",
    "Python supports integers, floating-point numbers and complex numbers. \n",
    "They are defined as int, float, and complex classes in Python."
   ]
  },
  {
   "cell_type": "code",
   "execution_count": 1,
   "metadata": {},
   "outputs": [
    {
     "name": "stdout",
     "output_type": "stream",
     "text": [
      "<class 'int'>\n",
      "<class 'float'>\n",
      "<class 'complex'>\n",
      "<class 'bool'>\n"
     ]
    }
   ],
   "source": [
    "x=10\n",
    "print(type(x))\n",
    "\n",
    "x=100.7\n",
    "print(type(x))\n",
    "\n",
    "x=3j\n",
    "print(type(x))\n",
    "\n",
    "x=True\n",
    "print(type(x))\n"
   ]
  },
  {
   "cell_type": "code",
   "execution_count": 3,
   "metadata": {},
   "outputs": [
    {
     "name": "stdout",
     "output_type": "stream",
     "text": [
      "<class 'int'>\n",
      "<class 'float'>\n",
      "True\n"
     ]
    }
   ],
   "source": [
    "a = 5\n",
    "print(type(a))\n",
    "print(type(5.0))\n",
    "print(isinstance(5j, complex))"
   ]
  },
  {
   "cell_type": "code",
   "execution_count": 2,
   "metadata": {},
   "outputs": [
    {
     "name": "stdout",
     "output_type": "stream",
     "text": [
      "(8+3j)\n",
      "True\n"
     ]
    }
   ],
   "source": [
    "c = 5 + 3j\n",
    "print(c + 3)\n",
    "\n",
    "print(isinstance(c, complex))"
   ]
  },
  {
   "cell_type": "code",
   "execution_count": null,
   "metadata": {},
   "outputs": [],
   "source": [
    "\"\"\"In Python, we can represent these numbers by appropriately placing a prefix before that number.\n",
    "The following table lists these prefixes.\n",
    "\n",
    "Number System\t   Prefix\n",
    "Binary\t           '0b' or '0B'\n",
    "Octal\t           '0o' or '0O'\n",
    "Hexadecimal\t       '0x' or '0X'\n",
    "\n",
    "Remember as BOX\n",
    "\"\"\""
   ]
  },
  {
   "cell_type": "code",
   "execution_count": 5,
   "metadata": {},
   "outputs": [
    {
     "name": "stdout",
     "output_type": "stream",
     "text": [
      "54501\n",
      "253\n",
      "13\n"
     ]
    }
   ],
   "source": [
    "\n",
    "print(0b1101010011100101)\n",
    "\n",
    "# Output: (251 + 2)\n",
    "print(0xFB + 0b10)\n",
    "\n",
    "print(0o15)"
   ]
  },
  {
   "cell_type": "code",
   "execution_count": 8,
   "metadata": {},
   "outputs": [
    {
     "ename": "ValueError",
     "evalue": "math domain error",
     "output_type": "error",
     "traceback": [
      "\u001b[1;31m---------------------------------------------------------------------------\u001b[0m",
      "\u001b[1;31mValueError\u001b[0m                                Traceback (most recent call last)",
      "\u001b[1;32m<ipython-input-8-4a79fb102916>\u001b[0m in \u001b[0;36m<module>\u001b[1;34m\u001b[0m\n\u001b[0;32m      1\u001b[0m \u001b[1;32mimport\u001b[0m \u001b[0mmath\u001b[0m\u001b[1;33m\u001b[0m\u001b[1;33m\u001b[0m\u001b[0m\n\u001b[1;32m----> 2\u001b[1;33m \u001b[0mmath\u001b[0m\u001b[1;33m.\u001b[0m\u001b[0msqrt\u001b[0m\u001b[1;33m(\u001b[0m\u001b[1;33m-\u001b[0m\u001b[1;36m4.8\u001b[0m\u001b[1;33m)\u001b[0m\u001b[1;33m\u001b[0m\u001b[1;33m\u001b[0m\u001b[0m\n\u001b[0m",
      "\u001b[1;31mValueError\u001b[0m: math domain error"
     ]
    }
   ],
   "source": [
    "import math\n",
    "math.sqrt(-4.8)"
   ]
  },
  {
   "cell_type": "code",
   "execution_count": 9,
   "metadata": {},
   "outputs": [
    {
     "name": "stdout",
     "output_type": "stream",
     "text": [
      "14j\n",
      "<class 'complex'>\n"
     ]
    }
   ],
   "source": [
    "import cmath\n",
    "x=-196\n",
    "y=cmath.sqrt(x)\n",
    "print(y)\n",
    "print(type(y))"
   ]
  },
  {
   "cell_type": "markdown",
   "metadata": {},
   "source": [
    "Python Fractions\n",
    "Python provides operations involving fractional numbers through its fractions module."
   ]
  },
  {
   "cell_type": "code",
   "execution_count": 4,
   "metadata": {},
   "outputs": [
    {
     "name": "stdout",
     "output_type": "stream",
     "text": [
      "3/2\n",
      "5\n",
      "1/3\n"
     ]
    }
   ],
   "source": [
    "import fractions\n",
    "\n",
    "print(fractions.Fraction(1.5))\n",
    "\n",
    "print(fractions.Fraction(5))\n",
    "\n",
    "print(fractions.Fraction(1,3))"
   ]
  },
  {
   "cell_type": "markdown",
   "metadata": {},
   "source": [
    "Python Mathematics\n",
    "Python offers modules like math and random to carry out different mathematics \n",
    "like trigonometry, logarithms, probability and statistics, etc."
   ]
  },
  {
   "cell_type": "code",
   "execution_count": 3,
   "metadata": {},
   "outputs": [
    {
     "name": "stdout",
     "output_type": "stream",
     "text": [
      "3.141592653589793\n",
      "-1.0\n",
      "22026.465794806718\n",
      "3.0\n",
      "1.1752011936438014\n",
      "720\n",
      "4.0\n"
     ]
    }
   ],
   "source": [
    "import math\n",
    "\n",
    "print(math.pi)\n",
    "\n",
    "print(math.cos(math.pi))\n",
    "\n",
    "print(math.exp(10))\n",
    "\n",
    "print(math.log10(1000))\n",
    "\n",
    "print(math.sinh(1))\n",
    "\n",
    "print(math.factorial(6))\n",
    "\n",
    "print(math.sqrt(16))"
   ]
  },
  {
   "cell_type": "raw",
   "metadata": {},
   "source": [
    "List of Functions in Python Math Module\n",
    "Function\tDescription\n",
    "ceil(x)\tReturns the smallest integer greater than or equal to x.\n",
    "copysign(x, y)\tReturns x with the sign of y\n",
    "fabs(x)\tReturns the absolute value of x\n",
    "factorial(x)\tReturns the factorial of x\n",
    "floor(x)\tReturns the largest integer less than or equal to x\n",
    "fmod(x, y)\tReturns the remainder when x is divided by y\n",
    "frexp(x)\tReturns the mantissa and exponent of x as the pair (m, e)\n",
    "fsum(iterable)\tReturns an accurate floating point sum of values in the iterable\n",
    "isfinite(x)\tReturns True if x is neither an infinity nor a NaN (Not a Number)\n",
    "isinf(x)\tReturns True if x is a positive or negative infinity\n",
    "isnan(x)\tReturns True if x is a NaN\n",
    "ldexp(x, i)\tReturns x * (2**i)\n",
    "modf(x)\tReturns the fractional and integer parts of x\n",
    "trunc(x)\tReturns the truncated integer value of x\n",
    "exp(x)\tReturns e**x\n",
    "expm1(x)\tReturns e**x - 1\n",
    "log1p(x)\tReturns the natural logarithm of 1+x\n",
    "log2(x)\tReturns the base-2 logarithm of x\n",
    "log10(x)\tReturns the base-10 logarithm of x\n",
    "pow(x, y)\tReturns x raised to the power y\n",
    "sqrt(x)\tReturns the square root of x\n",
    "acos(x)\tReturns the arc cosine of x\n",
    "asin(x)\tReturns the arc sine of x\n",
    "atan(x)\tReturns the arc tangent of x\n",
    "atan2(y, x)\tReturns atan(y / x)\n",
    "cos(x)\tReturns the cosine of x\n",
    "hypot(x, y)\tReturns the Euclidean norm, sqrt(x*x + y*y)\n",
    "sin(x)\tReturns the sine of x\n",
    "tan(x)\tReturns the tangent of x\n",
    "degrees(x)\tConverts angle x from radians to degrees\n",
    "radians(x)\tConverts angle x from degrees to radians\n",
    "acosh(x)\tReturns the inverse hyperbolic cosine of x\n",
    "asinh(x)\tReturns the inverse hyperbolic sine of x\n",
    "atanh(x)\tReturns the inverse hyperbolic tangent of x\n",
    "cosh(x)\tReturns the hyperbolic cosine of x\n",
    "sinh(x)\tReturns the hyperbolic cosine of x\n",
    "tanh(x)\tReturns the hyperbolic tangent of x\n",
    "erf(x)\tReturns the error function at x\n",
    "erfc(x)\tReturns the complementary error function at x\n",
    "gamma(x)\tReturns the Gamma function at x\n",
    "lgamma(x)\tReturns the natural logarithm of the absolute value of the Gamma function at x\n",
    "pi\tMathematical constant, the ratio of circumference of a circle to it's diameter (3.14159...)\n",
    "e\tmathematical constant e (2.71828...)"
   ]
  },
  {
   "cell_type": "code",
   "execution_count": 42,
   "metadata": {},
   "outputs": [
    {
     "data": {
      "text/plain": [
       "5"
      ]
     },
     "execution_count": 42,
     "metadata": {},
     "output_type": "execute_result"
    }
   ],
   "source": [
    "math.floor(5.6)"
   ]
  },
  {
   "cell_type": "code",
   "execution_count": 12,
   "metadata": {},
   "outputs": [
    {
     "name": "stdout",
     "output_type": "stream",
     "text": [
      "44\n",
      "b\n",
      "['c', 'd', 'b', 'a', 'e']\n",
      "0.8457821960228435\n"
     ]
    }
   ],
   "source": [
    "#Random package\n",
    "import random\n",
    "\n",
    "print(random.randrange(10, 120))\n",
    "\n",
    "x = ['a', 'b', 'c', 'd', 'e']\n",
    "\n",
    "# Get random choice\n",
    "print(random.choice(x))\n",
    "\n",
    "# Shuffle x\n",
    "random.shuffle(x)\n",
    "\n",
    "# Print the shuffled x\n",
    "print(x)\n",
    "\n",
    "# Print random element\n",
    "print(random.random())"
   ]
  },
  {
   "cell_type": "markdown",
   "metadata": {},
   "source": [
    "1.\tProgram to find the area of a triangle.\n",
    "2.\tProgram to convert Kilometer to miles.\n",
    "3.\tProgram to find the square root of the number entered by the user.\n",
    "4.\tProgram to convert Celsius to Fahrenheit.\n",
    "5.\tProgram to find the roots of a quadratic equation entered by the user."
   ]
  },
  {
   "cell_type": "code",
   "execution_count": 48,
   "metadata": {},
   "outputs": [
    {
     "name": "stdout",
     "output_type": "stream",
     "text": [
      "Enter side37\n",
      "17.41228014936585\n"
     ]
    }
   ],
   "source": [
    "#Program to find the area of a triangle. If a,b,c are the sides of the triangle\n",
    "# s = (a+b+c)/2\n",
    "# area = √(s(s-a)*(s-b)*(s-c))\n",
    "import math\n",
    "a=5\n",
    "b=9\n",
    "c=input(\"Enter side3\")\n",
    "c= int(c)\n",
    "s=(a+b+c)/2\n",
    "area= math.sqrt(s*(s-a)*(s-b)*(s-c))\n",
    "print(area)\n"
   ]
  },
  {
   "cell_type": "code",
   "execution_count": 9,
   "metadata": {},
   "outputs": [],
   "source": [
    "# Program to convert Kilometer to miles.\n",
    "# miles = kilometers * 0.621371\n"
   ]
  },
  {
   "cell_type": "code",
   "execution_count": 20,
   "metadata": {},
   "outputs": [],
   "source": [
    "# Program to find the square root of the number entered by the user.\n"
   ]
  },
  {
   "cell_type": "code",
   "execution_count": 18,
   "metadata": {},
   "outputs": [],
   "source": [
    "# Program to convert Celsius to Fahrenheit.\n",
    "# fahrenheit = (celsius * 1.8) + 32"
   ]
  },
  {
   "cell_type": "code",
   "execution_count": null,
   "metadata": {},
   "outputs": [],
   "source": [
    "# Program to find the roots of a quadratic equation entered by the user.\n",
    "# The standard form of a quadratic equation is:\n",
    "# ax**2 + bx + c = 0, where\n",
    "# a, b and c are real numbers and\n",
    "# a ≠ 0\n",
    "# Solve the quadratic equation ax**2 + bx + c = 0\n",
    "\n",
    "# import complex math module     import cmath   cmath.sqrt()"
   ]
  }
 ],
 "metadata": {
  "kernelspec": {
   "display_name": "Python 3",
   "language": "python",
   "name": "python3"
  },
  "language_info": {
   "codemirror_mode": {
    "name": "ipython",
    "version": 3
   },
   "file_extension": ".py",
   "mimetype": "text/x-python",
   "name": "python",
   "nbconvert_exporter": "python",
   "pygments_lexer": "ipython3",
   "version": "3.7.6"
  }
 },
 "nbformat": 4,
 "nbformat_minor": 2
}
