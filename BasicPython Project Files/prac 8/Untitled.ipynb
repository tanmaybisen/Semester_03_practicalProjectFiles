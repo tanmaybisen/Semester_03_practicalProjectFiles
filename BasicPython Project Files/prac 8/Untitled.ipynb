{
 "cells": [
  {
   "cell_type": "code",
   "execution_count": 10,
   "metadata": {},
   "outputs": [
    {
     "name": "stdout",
     "output_type": "stream",
     "text": [
      "[]\n"
     ]
    }
   ],
   "source": [
    "import re\n",
    "p='[^abc]s$'\n",
    "k=re.findall(p,'')\n",
    "print(k)\n",
    "        "
   ]
  },
  {
   "cell_type": "code",
   "execution_count": 11,
   "metadata": {},
   "outputs": [
    {
     "name": "stdout",
     "output_type": "stream",
     "text": [
      "1 :\n",
      "['a', 'b', 'c']\n",
      "2 :\n",
      "['a', 'b']\n",
      "3 :\n",
      "['a']\n",
      "4 :\n",
      "['c', 'c']\n"
     ]
    }
   ],
   "source": [
    "import re\n",
    "count=1\n",
    "test_string = [\"abc\",\"ab\",\"hey dear\",\"dc ce\"]\n",
    "pattern = \"[abc]\"\n",
    "for ele in test_string:\n",
    "    print(count,\":\")\n",
    "    count+=1\n",
    "    result1 = re.findall(pattern, ele)\n",
    "    print(result1)"
   ]
  },
  {
   "cell_type": "code",
   "execution_count": null,
   "metadata": {},
   "outputs": [],
   "source": []
  }
 ],
 "metadata": {
  "kernelspec": {
   "display_name": "Python 3",
   "language": "python",
   "name": "python3"
  },
  "language_info": {
   "codemirror_mode": {
    "name": "ipython",
    "version": 3
   },
   "file_extension": ".py",
   "mimetype": "text/x-python",
   "name": "python",
   "nbconvert_exporter": "python",
   "pygments_lexer": "ipython3",
   "version": "3.7.6"
  }
 },
 "nbformat": 4,
 "nbformat_minor": 4
}
