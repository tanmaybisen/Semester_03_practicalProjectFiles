{
 "cells": [
  {
   "cell_type": "markdown",
   "metadata": {},
   "source": [
    "# Python RegEx\n",
    "A RegEx, or Regular Expression, is a sequence of characters that forms a search pattern.\n",
    "\n",
    "RegEx can be used to check if a string contains the specified search pattern."
   ]
  },
  {
   "cell_type": "markdown",
   "metadata": {},
   "source": [
    "# RegEx Module\n",
    "Python has a built-in package called re, which can be used to work with Regular Expressions.\n",
    "\n",
    "Import the re module:"
   ]
  },
  {
   "cell_type": "code",
   "execution_count": 1,
   "metadata": {},
   "outputs": [],
   "source": [
    "import re"
   ]
  },
  {
   "cell_type": "markdown",
   "metadata": {},
   "source": [
    "# ^a...s$\n",
    "The above code defines a RegEx pattern. The pattern is: any five letter string starting with a and ending with s."
   ]
  },
  {
   "cell_type": "code",
   "execution_count": 3,
   "metadata": {},
   "outputs": [
    {
     "name": "stdout",
     "output_type": "stream",
     "text": [
      "<re.Match object; span=(0, 5), match='ab2@s'>\n",
      "Search successful.\n"
     ]
    }
   ],
   "source": [
    "import re\n",
    "\n",
    "pattern = '^a...s$'\n",
    "test_string = 'ab2@s'  # 'Alias'\n",
    "result = re.match(pattern, test_string)\n",
    "print(result)\n",
    "\n",
    "if result:\n",
    "  print(\"Search successful.\")\n",
    "else:\n",
    "  print(\"Search unsuccessful.\")\t"
   ]
  },
  {
   "cell_type": "code",
   "execution_count": 24,
   "metadata": {},
   "outputs": [
    {
     "name": "stdout",
     "output_type": "stream",
     "text": [
      "None\n"
     ]
    }
   ],
   "source": [
    "test_string = 'Alias'   #not starting with 'a' but with 'A'\n",
    "result = re.match(pattern, test_string)\n",
    "print(result)"
   ]
  },
  {
   "cell_type": "code",
   "execution_count": 4,
   "metadata": {},
   "outputs": [
    {
     "name": "stdout",
     "output_type": "stream",
     "text": [
      "<re.Match object; span=(0, 5), match='alias'>\n"
     ]
    }
   ],
   "source": [
    "test_string = 'alias'\n",
    "result = re.match(pattern, test_string)\n",
    "print(result)"
   ]
  },
  {
   "cell_type": "markdown",
   "metadata": {},
   "source": [
    "Here, we used re.match() function to search pattern within the test_string. The method returns a match object if the search is successful. If not, it returns None."
   ]
  },
  {
   "cell_type": "markdown",
   "metadata": {},
   "source": [
    "## Specify Pattern Using RegEx\n",
    "To specify regular expressions, metacharacters are used. In the above example, ^ and $ are metacharacters.\n",
    "\n",
    "MetaCharacters\n",
    "Metacharacters are characters that are interpreted in a special way by a RegEx engine. Here's a list of metacharacters:\n",
    "\n",
    "[] . ^ $ * + ? {} () \\ |"
   ]
  },
  {
   "cell_type": "markdown",
   "metadata": {},
   "source": [
    "## [] - Square brackets\n",
    "\n",
    "Square brackets specifies a set of characters you wish to match.\n",
    "You can also specify a range of characters using - inside square brackets.\n",
    "\n",
    "## [a-e] is the same as [abcde].\n",
    "## [1-4] is the same as [1234].\n",
    "## [0-39] is the same as [01239].\n",
    "You can complement (invert) the character set by using caret ^ symbol at the start of a square-bracket.\n",
    "\n",
    "## [^abc] means any character except a or b or c.\n",
    "## [^0-9] means any non-digit character."
   ]
  },
  {
   "cell_type": "code",
   "execution_count": null,
   "metadata": {},
   "outputs": [],
   "source": [
    "[a-zA-Z0-9]"
   ]
  },
  {
   "cell_type": "code",
   "execution_count": 5,
   "metadata": {},
   "outputs": [
    {
     "name": "stdout",
     "output_type": "stream",
     "text": [
      "1 :\n",
      "['a', 'b', 'c']\n",
      "2 :\n",
      "['a', 'b']\n",
      "3 :\n",
      "['a']\n",
      "4 :\n",
      "['c', 'c']\n"
     ]
    }
   ],
   "source": [
    "import re\n",
    "test_string = [\"abc\",\"ab\",\"hey dear\",\"dc ce\"]\n",
    "pattern = \"[abc]\"\n",
    "for ele in test_string:\n",
    "    result1 = re.findall(pattern, ele)\n",
    "    print(result1)\n"
   ]
  },
  {
   "cell_type": "code",
   "execution_count": 5,
   "metadata": {},
   "outputs": [
    {
     "name": "stdout",
     "output_type": "stream",
     "text": [
      "1 :\n",
      "[]\n",
      "2 :\n",
      "['45']\n",
      "3 :\n",
      "['+63']\n",
      "4 :\n",
      "['76']\n",
      "5 :\n",
      "['29']\n"
     ]
    }
   ],
   "source": [
    "import re\n",
    "pattern1 = \"[+]*[0-9][0-9]*\"\n",
    "test_string1 = [\"a\",\"45\",\"+63\",\"76\",\"-29\"]\n",
    "count=1\n",
    "for ele in test_string1:\n",
    "    print(count,\":\")\n",
    "    count+=1\n",
    "    result1 = re.findall(pattern1, ele)\n",
    "    print(result1)"
   ]
  },
  {
   "cell_type": "code",
   "execution_count": null,
   "metadata": {},
   "outputs": [],
   "source": []
  },
  {
   "cell_type": "code",
   "execution_count": 49,
   "metadata": {},
   "outputs": [
    {
     "name": "stdout",
     "output_type": "stream",
     "text": [
      "1 :\n",
      "[]\n",
      "2 :\n",
      "['shrs']\n",
      "3 :\n",
      "['wvhdjh']\n",
      "4 :\n",
      "['jdvjhd']\n",
      "5 :\n",
      "['ASDCVEV']\n"
     ]
    }
   ],
   "source": [
    "pattern1 = \"[a-z | A-Z]*[^0-9]\"\n",
    "test_string1 = [\"5\",\"shrs5\",\"8wvhdjh\",\"jdvjhd\",\"ASDCVEV\"]\n",
    "count=1\n",
    "for ele in test_string1:\n",
    "    print(count,\":\")\n",
    "    count+=1\n",
    "    result1 = re.findall(pattern1, ele)\n",
    "    print(result1)"
   ]
  },
  {
   "cell_type": "code",
   "execution_count": 18,
   "metadata": {},
   "outputs": [
    {
     "name": "stdout",
     "output_type": "stream",
     "text": [
      "['h', 'e', 'a', 'i', 'i', 'a', 'i']\n"
     ]
    }
   ],
   "source": [
    "import re\n",
    "txt = \"The rain in Spain\"\n",
    "#Find all lower case characters alphabetically between \"a\" and \"m\":\n",
    "x = re.findall(\"[a-m]\", txt)\n",
    "print(x)"
   ]
  },
  {
   "cell_type": "markdown",
   "metadata": {},
   "source": [
    "## . - Period\n",
    "A period matches any single character (except newline '\\n')."
   ]
  },
  {
   "cell_type": "code",
   "execution_count": 33,
   "metadata": {},
   "outputs": [
    {
     "name": "stdout",
     "output_type": "stream",
     "text": [
      "['he2#o']\n"
     ]
    }
   ],
   "source": [
    "txt = \"he2#o world\"\n",
    "#Search for a sequence that starts with \"h\", followed by two (any) characters, and an \"o\":\n",
    "x = re.findall(\"h...o\", txt)\n",
    "print(x)"
   ]
  },
  {
   "cell_type": "markdown",
   "metadata": {},
   "source": [
    "## ^ - Caret\n",
    "The caret symbol ^ is used to check if a string starts with a certain word."
   ]
  },
  {
   "cell_type": "code",
   "execution_count": 34,
   "metadata": {},
   "outputs": [
    {
     "name": "stdout",
     "output_type": "stream",
     "text": [
      "Yes, the string starts with 'hello'\n"
     ]
    }
   ],
   "source": [
    "txt = \"hello world\"\n",
    "#Check if the string starts with 'hello':\n",
    "x = re.findall(\"^hello\", txt)\n",
    "if x:\n",
    "  print(\"Yes, the string starts with 'hello'\")\n",
    "else:\n",
    "  print(\"No match\")"
   ]
  },
  {
   "cell_type": "raw",
   "metadata": {},
   "source": [
    " $ - Dollar\n",
    "The dollar symbol $ is used to check if a string ends with a certain word."
   ]
  },
  {
   "cell_type": "code",
   "execution_count": 36,
   "metadata": {},
   "outputs": [
    {
     "name": "stdout",
     "output_type": "stream",
     "text": [
      "Yes, the string ends with 'world'\n"
     ]
    }
   ],
   "source": [
    "txt = \"hello world\"\n",
    "\n",
    "#Check if the string ends with 'world':\n",
    "\n",
    "x = re.findall(\"world$\", txt)\n",
    "if x:\n",
    "  print(\"Yes, the string ends with 'world'\")\n",
    "else:\n",
    "  print(\"No match\")"
   ]
  },
  {
   "cell_type": "markdown",
   "metadata": {},
   "source": [
    "## * - Star\n",
    "The star symbol * matches zero or more occurrences of the pattern left to it."
   ]
  },
  {
   "cell_type": "code",
   "execution_count": 53,
   "metadata": {},
   "outputs": [
    {
     "name": "stdout",
     "output_type": "stream",
     "text": [
      "['ai', 'ai', 'ai', 'ai', 'aix', 'aixx']\n",
      "Yes, there is at least one match!\n"
     ]
    }
   ],
   "source": [
    "txt = \"The rain in Spain falls mainly in the plain! aix aixx\"\n",
    "\n",
    "#Check if the string contains \"ai\" followed by 0 or more \"x\" characters:\n",
    "\n",
    "x = re.findall(\"aix*\", txt)\n",
    "\n",
    "print(x)\n",
    "\n",
    "if x:\n",
    "  print(\"Yes, there is at least one match!\")\n",
    "else:\n",
    "  print(\"No match\")\n"
   ]
  },
  {
   "cell_type": "markdown",
   "metadata": {},
   "source": [
    "## + - Plus\n",
    "The plus symbol + matches one or more occurrences of the pattern left to it."
   ]
  },
  {
   "cell_type": "code",
   "execution_count": 39,
   "metadata": {},
   "outputs": [
    {
     "name": "stdout",
     "output_type": "stream",
     "text": [
      "[]\n",
      "No match\n"
     ]
    }
   ],
   "source": [
    "txt = \"The rain in Spain falls mainly in the plain!\"\n",
    "\n",
    "#Check if the string contains \"ai\" followed by 1 or more \"x\" characters:\n",
    "\n",
    "x = re.findall(\"aix+\", txt)\n",
    "\n",
    "print(x)\n",
    "\n",
    "if x:\n",
    "  print(\"Yes, there is at least one match!\")\n",
    "else:\n",
    "  print(\"No match\")"
   ]
  },
  {
   "cell_type": "code",
   "execution_count": 58,
   "metadata": {},
   "outputs": [
    {
     "data": {
      "text/plain": [
       "['aix', 'aixxxx']"
      ]
     },
     "execution_count": 58,
     "metadata": {},
     "output_type": "execute_result"
    }
   ],
   "source": [
    "txt = \"ai aix aixxxx\"\n",
    "x = re.findall(\"aix+\", txt)\n",
    "x"
   ]
  },
  {
   "cell_type": "code",
   "execution_count": 13,
   "metadata": {},
   "outputs": [
    {
     "name": "stdout",
     "output_type": "stream",
     "text": [
      "['873476221']\n"
     ]
    }
   ],
   "source": [
    "txt = \"873476221\"\n",
    "\n",
    "#Check if the string contains \"ai\" followed by 1 or more \"x\" characters:\n",
    "pattern = \"[7-9][0-9]{8,9}\" # min 8 occurrences or max 9 occurrences of character to the left of {8,9} \n",
    "x = re.findall(pattern, txt)\n",
    "print(x)"
   ]
  },
  {
   "cell_type": "markdown",
   "metadata": {},
   "source": [
    "## ? - Question Mark\n",
    "The question mark symbol ? matches zero or one occurrence of the pattern left to it."
   ]
  },
  {
   "cell_type": "code",
   "execution_count": 41,
   "metadata": {},
   "outputs": [
    {
     "name": "stdout",
     "output_type": "stream",
     "text": [
      "1 :\n",
      "['mn']\n",
      "2 :\n",
      "['man']\n",
      "3 :\n",
      "[]\n",
      "4 :\n",
      "[]\n",
      "5 :\n",
      "['man']\n"
     ]
    }
   ],
   "source": [
    "test_string = [\"mn\",\"man\",\"maaan\",\"main\",\"woman\"]\n",
    "pattern = \"ma?n\" # only 0 or 1 occurences of a are matched\n",
    "count=1\n",
    "for ele in test_string:\n",
    "    print(count,\":\")\n",
    "    count+=1\n",
    "    result1 = re.findall(pattern, ele)\n",
    "    print(result1)"
   ]
  },
  {
   "cell_type": "markdown",
   "metadata": {},
   "source": [
    "## {} - Braces\n",
    "Consider this code: {n,m}. This means at least n, and at most m repetitions of the pattern left to it."
   ]
  },
  {
   "cell_type": "code",
   "execution_count": 42,
   "metadata": {},
   "outputs": [
    {
     "name": "stdout",
     "output_type": "stream",
     "text": [
      "['all', 'alll', 'allll', 'allll']\n",
      "Yes, there is at least one match!\n"
     ]
    }
   ],
   "source": [
    "txt = \"The rain in Spain falls mainly in the plain! alll, allll, alllllll\"\n",
    "\n",
    "#Check if the string contains \"a\" followed by exactly two \"l\" characters:\n",
    "\n",
    "x = re.findall(\"al{2,4}\", txt)\n",
    "\n",
    "print(x)\n",
    "\n",
    "if x:\n",
    "  print(\"Yes, there is at least one match!\")\n",
    "else:\n",
    "  print(\"No match\")"
   ]
  },
  {
   "cell_type": "markdown",
   "metadata": {},
   "source": [
    "##  |\tEither or\n",
    "| - Alternation: Vertical bar | is used for alternation (or operator)."
   ]
  },
  {
   "cell_type": "code",
   "execution_count": 14,
   "metadata": {},
   "outputs": [
    {
     "name": "stdout",
     "output_type": "stream",
     "text": [
      "['falls']\n",
      "Yes, there is at least one match!\n"
     ]
    }
   ],
   "source": [
    "txt = \"The rain in Spain falls mainly in the plain!\"\n",
    "\n",
    "#Check if the string contains either \"falls\" or \"stays\":\n",
    "\n",
    "x = re.findall(\"falls|stays\", txt)   # [a-z | A-Z]\n",
    "\n",
    "print(x)\n",
    "\n",
    "if x:\n",
    "  print(\"Yes, there is at least one match!\")\n",
    "else:\n",
    "  print(\"No match\")\n"
   ]
  },
  {
   "cell_type": "code",
   "execution_count": 43,
   "metadata": {},
   "outputs": [
    {
     "name": "stdout",
     "output_type": "stream",
     "text": [
      "['P', 'r', 'a', 'c', 't', 'i', 'c', 'a', 'l', ' ', ' ', ' ', 'P', 'y', 't', 'h', 'o', 'n']\n"
     ]
    }
   ],
   "source": [
    "txt = \"Practical 8 - Python3\"\n",
    "x = re.findall(\"[a-z | A-Z]\", txt)   # [a-z | A-Z]\n",
    "\n",
    "print(x)"
   ]
  },
  {
   "cell_type": "markdown",
   "metadata": {},
   "source": [
    "## () - Group\n",
    "\n",
    "Parentheses () is used to group sub-patterns. For example, (a|b|c)xz match any string that matches either a or b or c followed by xz"
   ]
  },
  {
   "cell_type": "raw",
   "metadata": {},
   "source": [
    "Expression\t     String\t          Matched?\n",
    "(a|b|c)xz\t     ab xz\t          No match\n",
    "                 abxz\t          1 match (match at abxz)\n",
    "                 axz cabxz\t      2 matches (at axzbc cabxz)"
   ]
  },
  {
   "cell_type": "markdown",
   "metadata": {},
   "source": [
    "## \\ - Backslash\n",
    "\n",
    "Backlash \\ is used to escape various characters including all metacharacters. For example,"
   ]
  },
  {
   "cell_type": "raw",
   "metadata": {},
   "source": [
    "\\$a match if a string contains $ followed by a. Here, $ is not interpreted by a RegEx engine in a special way.\n",
    "If you are unsure if a character has special meaning or not, you can put \\ in front of it. This makes sure the character is not treated in a special way."
   ]
  },
  {
   "cell_type": "raw",
   "metadata": {},
   "source": [
    "\\A - Matches if the specified characters are at the start of a string.\n",
    "Expression\t   String\t     Matched?\n",
    "\\AThe\t       The sun\t     Match\n",
    "               In the sun\t No match"
   ]
  },
  {
   "cell_type": "raw",
   "metadata": {},
   "source": [
    "\\b - Matches if the specified characters are at the beginning or end of a word.\n",
    "\n",
    "Expression\t       String\t               Matched?\n",
    "\\bfoo\t           football\t               Match\n",
    "                   a football\t           Match\n",
    "                   afootball\t           No match\n",
    "foo\\b\t           the foo\t               Match\n",
    "                   the afoo test\t       Match\n",
    "                   the afootest\t           No match"
   ]
  },
  {
   "cell_type": "raw",
   "metadata": {},
   "source": [
    "\\B - Opposite of \\b. Matches if the specified characters are not at the beginning or end of a word.\n",
    "\n",
    "Expression\t      String\t         Matched?\n",
    "\\Bfoo\t          football\t         No match\n",
    "                  a football\t     No match\n",
    "                  afootball\t         Match\n",
    "foo\\B\t          the foo\t         No match\n",
    "                  the afoo test\t     No match\n",
    "                  the afootest\t     Match"
   ]
  },
  {
   "cell_type": "raw",
   "metadata": {},
   "source": [
    "\\d - Matches any decimal digit. Equivalent to [0-9]\n",
    "\n",
    "Expression\t           String\t              Matched?\n",
    "\\d\t                   12abc3\t              3 matches (at 1 2 3)\n",
    "                       Python\t              No match\n",
    "\n",
    "\\D - Matches any non-decimal digit. Equivalent to [^0-9]\n",
    "\n",
    "Expression\t            String\t            Matched?\n",
    "\\D\t                    1ab34\"50\t        3 matches (at a b \")\n",
    "                        1345\t            No match\n"
   ]
  },
  {
   "cell_type": "raw",
   "metadata": {},
   "source": [
    "\\s - Matches where a string contains any whitespace character. Equivalent to [ \\t\\n\\r\\f\\v].\n",
    "\n",
    "Expression\t           String\t             Matched?\n",
    "\\s\t                   Python RegEx\t         1 match\n",
    "                       PythonRegEx\t         No match\n",
    "\n",
    "\\S - Matches where a string contains any non-whitespace character. Equivalent to [^ \\t\\n\\r\\f\\v].\n",
    "\n",
    "Expression\t           String\t             Matched?\n",
    "\\S\t                   a b\t                 2 matches (at  a b)\n",
    "   \t                                         No match"
   ]
  },
  {
   "cell_type": "raw",
   "metadata": {},
   "source": [
    "\\w - Matches any alphanumeric character (digits and alphabets). Equivalent to [a-zA-Z0-9_]. By the way, underscore _ is also considered an alphanumeric character.\n",
    "\n",
    "Expression\t            String\t                      Matched?\n",
    "\\w\t                    12&\": ;c \t                  3 matches (at 1 2 c)\n",
    "                        %\"> !\t                      No match\n",
    "\n",
    "\\W - Matches any non-alphanumeric character. Equivalent to [^a-zA-Z0-9_]\n",
    "\n",
    "Expression\t            String\t                     Matched?\n",
    "\\W\t                    1a2%c\t                     1 match (at %)\n",
    "                        Python\t                     No match"
   ]
  },
  {
   "cell_type": "raw",
   "metadata": {},
   "source": [
    "\\Z - Matches if the specified characters are at the end of a string.\n",
    "\n",
    "Expression\t            String\t                        Matched?\n",
    "Python\\Z\t            I like Python\t                1 match\n",
    "                        I like Python Programming    \tNo match\n",
    "                        Python is fun.              \tNo match"
   ]
  },
  {
   "cell_type": "markdown",
   "metadata": {},
   "source": [
    "## re.findall()\n",
    "The re.findall() method returns a list of strings containing all matches."
   ]
  },
  {
   "cell_type": "code",
   "execution_count": 15,
   "metadata": {},
   "outputs": [
    {
     "name": "stdout",
     "output_type": "stream",
     "text": [
      "['12', '89', '3', '9989']\n"
     ]
    }
   ],
   "source": [
    "# Program to extract numbers from a string\n",
    "string = 'hello 12 hi 89. Howdy 3, 9989'\n",
    "pattern = '\\d+'\n",
    "result = re.findall(pattern, string) \n",
    "print(result)"
   ]
  },
  {
   "cell_type": "markdown",
   "metadata": {},
   "source": [
    "## re.split()\n",
    "The re.split method splits the string where there is a match and returns a list of strings where the splits have occurred."
   ]
  },
  {
   "cell_type": "code",
   "execution_count": 67,
   "metadata": {},
   "outputs": [
    {
     "name": "stdout",
     "output_type": "stream",
     "text": [
      "['Twelve:', ' Eighty nine:', '.']\n"
     ]
    }
   ],
   "source": [
    "string = 'Twelve:12 Eighty nine:89.'\n",
    "pattern = '\\d+'\n",
    "result = re.split(pattern, string) \n",
    "print(result)  \n",
    "# If the pattern is not found, re.split() returns a list containing the original string."
   ]
  },
  {
   "cell_type": "markdown",
   "metadata": {},
   "source": [
    "## re.sub()\n",
    "The syntax of re.sub() is:\n",
    "\n",
    "re.sub(pattern, replace, string)\n",
    "The method returns a string where matched occurrences are replaced with the content of replace variable."
   ]
  },
  {
   "cell_type": "code",
   "execution_count": 16,
   "metadata": {},
   "outputs": [
    {
     "name": "stdout",
     "output_type": "stream",
     "text": [
      "abc12\\de23f456\n"
     ]
    }
   ],
   "source": [
    "# Program to remove all whitespaces\n",
    "\n",
    "# multiline string\n",
    "string = 'abc 12\\de 23 \\n f45 6'\n",
    "\n",
    "# matches all whitespace characters\n",
    "pattern = '\\s+'\n",
    "\n",
    "# empty string\n",
    "replace = ''\n",
    "\n",
    "new_string = re.sub(pattern, replace, string) \n",
    "print(new_string)\n",
    "# If the pattern is not found, re.sub() returns the original string."
   ]
  },
  {
   "cell_type": "markdown",
   "metadata": {},
   "source": [
    "## re.search()\n",
    "The re.search() method takes two arguments: a pattern and a string. The method looks for the first location where the RegEx pattern produces a match with the string.\n",
    "\n",
    "If the search is successful, re.search() returns a match object; if not, it returns None.\n",
    "\n",
    "match = re.search(pattern, str)"
   ]
  },
  {
   "cell_type": "code",
   "execution_count": 52,
   "metadata": {},
   "outputs": [
    {
     "name": "stdout",
     "output_type": "stream",
     "text": [
      "<re.Match object; span=(0, 6), match='Python'>\n",
      "pattern found inside the string\n"
     ]
    }
   ],
   "source": [
    "import re\n",
    "string = \"Python Python is fun\"\n",
    "\n",
    "# check if 'Python' is at the beginning\n",
    "match = re.search('Python', string)\n",
    "print(match)\n",
    "if match:\n",
    "  print(\"pattern found inside the string\")\n",
    "else:\n",
    "  print(\"pattern not found\")  "
   ]
  },
  {
   "cell_type": "code",
   "execution_count": null,
   "metadata": {},
   "outputs": [],
   "source": [
    "RE for valid mail id\n",
    "\n",
    "bongirwarvk@rknec.edu\n",
    "vrushali_bb@gmail.com\n",
    "Afh.is_dd23@gmail.com\n",
    "nsd23@gov.in\n",
    "\n",
    "ss.ss@fff\n",
    "ss@ns.i\n",
    "\n",
    "\n",
    "\n",
    "Valid mobile nos\n",
    "\n",
    "Valid complex no's\n",
    "2+9j 3.8+7.3j 0+6j  5.4+0j\n",
    "8\n",
    "9j\n"
   ]
  }
 ],
 "metadata": {
  "kernelspec": {
   "display_name": "Python 3",
   "language": "python",
   "name": "python3"
  },
  "language_info": {
   "codemirror_mode": {
    "name": "ipython",
    "version": 3
   },
   "file_extension": ".py",
   "mimetype": "text/x-python",
   "name": "python",
   "nbconvert_exporter": "python",
   "pygments_lexer": "ipython3",
   "version": "3.7.6"
  }
 },
 "nbformat": 4,
 "nbformat_minor": 2
}
